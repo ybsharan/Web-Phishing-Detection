{
  "nbformat": 4,
  "nbformat_minor": 0,
  "metadata": {
    "colab": {
      "provenance": []
    },
    "kernelspec": {
      "name": "python3",
      "display_name": "Python 3"
    },
    "language_info": {
      "name": "python"
    }
  },
  "cells": [
    {
      "cell_type": "markdown",
      "source": [
        "# **Problem Statement :Customer Segmentation Analysis**"
      ],
      "metadata": {
        "id": "q9w2GK-ud56s"
      }
    },
    {
      "cell_type": "markdown",
      "source": [
        "# **1.Download the dataset**"
      ],
      "metadata": {
        "id": "wXvw6kjyeNo2"
      }
    },
    {
      "cell_type": "code",
      "execution_count": 45,
      "metadata": {
        "id": "rE_WVQH0dtem"
      },
      "outputs": [],
      "source": [
        "import pandas as pd\n",
        "import numpy as np\n",
        "import seaborn as sns \n",
        "from matplotlib import pyplot as plt \n",
        "from sklearn.preprocessing import scale \n",
        "import warnings \n",
        "warnings.filterwarnings('ignore')"
      ]
    },
    {
      "cell_type": "markdown",
      "source": [
        "# **2.load the dataset into the tool**"
      ],
      "metadata": {
        "id": "F2VxNx_seqpt"
      }
    },
    {
      "cell_type": "code",
      "source": [
        "data=pd.read_csv(\"Mall_Customers.csv\")\n"
      ],
      "metadata": {
        "id": "Jwep5GV7eynj"
      },
      "execution_count": 46,
      "outputs": []
    },
    {
      "cell_type": "code",
      "source": [
        "data.head()"
      ],
      "metadata": {
        "id": "giUddJW_fFRE",
        "colab": {
          "base_uri": "https://localhost:8080/",
          "height": 206
        },
        "outputId": "31cb5cc3-f1c5-4d96-c0f4-1b5fe47b1d30"
      },
      "execution_count": 47,
      "outputs": [
        {
          "output_type": "execute_result",
          "data": {
            "text/plain": [
              "   CustomerID  Gender  Age  Annual Income (k$)  Spending Score (1-100)\n",
              "0           1    Male   19                  15                      39\n",
              "1           2    Male   21                  15                      81\n",
              "2           3  Female   20                  16                       6\n",
              "3           4  Female   23                  16                      77\n",
              "4           5  Female   31                  17                      40"
            ],
            "text/html": [
              "\n",
              "  <div id=\"df-4451c243-fc02-47ab-ab37-92bf63bf6395\">\n",
              "    <div class=\"colab-df-container\">\n",
              "      <div>\n",
              "<style scoped>\n",
              "    .dataframe tbody tr th:only-of-type {\n",
              "        vertical-align: middle;\n",
              "    }\n",
              "\n",
              "    .dataframe tbody tr th {\n",
              "        vertical-align: top;\n",
              "    }\n",
              "\n",
              "    .dataframe thead th {\n",
              "        text-align: right;\n",
              "    }\n",
              "</style>\n",
              "<table border=\"1\" class=\"dataframe\">\n",
              "  <thead>\n",
              "    <tr style=\"text-align: right;\">\n",
              "      <th></th>\n",
              "      <th>CustomerID</th>\n",
              "      <th>Gender</th>\n",
              "      <th>Age</th>\n",
              "      <th>Annual Income (k$)</th>\n",
              "      <th>Spending Score (1-100)</th>\n",
              "    </tr>\n",
              "  </thead>\n",
              "  <tbody>\n",
              "    <tr>\n",
              "      <th>0</th>\n",
              "      <td>1</td>\n",
              "      <td>Male</td>\n",
              "      <td>19</td>\n",
              "      <td>15</td>\n",
              "      <td>39</td>\n",
              "    </tr>\n",
              "    <tr>\n",
              "      <th>1</th>\n",
              "      <td>2</td>\n",
              "      <td>Male</td>\n",
              "      <td>21</td>\n",
              "      <td>15</td>\n",
              "      <td>81</td>\n",
              "    </tr>\n",
              "    <tr>\n",
              "      <th>2</th>\n",
              "      <td>3</td>\n",
              "      <td>Female</td>\n",
              "      <td>20</td>\n",
              "      <td>16</td>\n",
              "      <td>6</td>\n",
              "    </tr>\n",
              "    <tr>\n",
              "      <th>3</th>\n",
              "      <td>4</td>\n",
              "      <td>Female</td>\n",
              "      <td>23</td>\n",
              "      <td>16</td>\n",
              "      <td>77</td>\n",
              "    </tr>\n",
              "    <tr>\n",
              "      <th>4</th>\n",
              "      <td>5</td>\n",
              "      <td>Female</td>\n",
              "      <td>31</td>\n",
              "      <td>17</td>\n",
              "      <td>40</td>\n",
              "    </tr>\n",
              "  </tbody>\n",
              "</table>\n",
              "</div>\n",
              "      <button class=\"colab-df-convert\" onclick=\"convertToInteractive('df-4451c243-fc02-47ab-ab37-92bf63bf6395')\"\n",
              "              title=\"Convert this dataframe to an interactive table.\"\n",
              "              style=\"display:none;\">\n",
              "        \n",
              "  <svg xmlns=\"http://www.w3.org/2000/svg\" height=\"24px\"viewBox=\"0 0 24 24\"\n",
              "       width=\"24px\">\n",
              "    <path d=\"M0 0h24v24H0V0z\" fill=\"none\"/>\n",
              "    <path d=\"M18.56 5.44l.94 2.06.94-2.06 2.06-.94-2.06-.94-.94-2.06-.94 2.06-2.06.94zm-11 1L8.5 8.5l.94-2.06 2.06-.94-2.06-.94L8.5 2.5l-.94 2.06-2.06.94zm10 10l.94 2.06.94-2.06 2.06-.94-2.06-.94-.94-2.06-.94 2.06-2.06.94z\"/><path d=\"M17.41 7.96l-1.37-1.37c-.4-.4-.92-.59-1.43-.59-.52 0-1.04.2-1.43.59L10.3 9.45l-7.72 7.72c-.78.78-.78 2.05 0 2.83L4 21.41c.39.39.9.59 1.41.59.51 0 1.02-.2 1.41-.59l7.78-7.78 2.81-2.81c.8-.78.8-2.07 0-2.86zM5.41 20L4 18.59l7.72-7.72 1.47 1.35L5.41 20z\"/>\n",
              "  </svg>\n",
              "      </button>\n",
              "      \n",
              "  <style>\n",
              "    .colab-df-container {\n",
              "      display:flex;\n",
              "      flex-wrap:wrap;\n",
              "      gap: 12px;\n",
              "    }\n",
              "\n",
              "    .colab-df-convert {\n",
              "      background-color: #E8F0FE;\n",
              "      border: none;\n",
              "      border-radius: 50%;\n",
              "      cursor: pointer;\n",
              "      display: none;\n",
              "      fill: #1967D2;\n",
              "      height: 32px;\n",
              "      padding: 0 0 0 0;\n",
              "      width: 32px;\n",
              "    }\n",
              "\n",
              "    .colab-df-convert:hover {\n",
              "      background-color: #E2EBFA;\n",
              "      box-shadow: 0px 1px 2px rgba(60, 64, 67, 0.3), 0px 1px 3px 1px rgba(60, 64, 67, 0.15);\n",
              "      fill: #174EA6;\n",
              "    }\n",
              "\n",
              "    [theme=dark] .colab-df-convert {\n",
              "      background-color: #3B4455;\n",
              "      fill: #D2E3FC;\n",
              "    }\n",
              "\n",
              "    [theme=dark] .colab-df-convert:hover {\n",
              "      background-color: #434B5C;\n",
              "      box-shadow: 0px 1px 3px 1px rgba(0, 0, 0, 0.15);\n",
              "      filter: drop-shadow(0px 1px 2px rgba(0, 0, 0, 0.3));\n",
              "      fill: #FFFFFF;\n",
              "    }\n",
              "  </style>\n",
              "\n",
              "      <script>\n",
              "        const buttonEl =\n",
              "          document.querySelector('#df-4451c243-fc02-47ab-ab37-92bf63bf6395 button.colab-df-convert');\n",
              "        buttonEl.style.display =\n",
              "          google.colab.kernel.accessAllowed ? 'block' : 'none';\n",
              "\n",
              "        async function convertToInteractive(key) {\n",
              "          const element = document.querySelector('#df-4451c243-fc02-47ab-ab37-92bf63bf6395');\n",
              "          const dataTable =\n",
              "            await google.colab.kernel.invokeFunction('convertToInteractive',\n",
              "                                                     [key], {});\n",
              "          if (!dataTable) return;\n",
              "\n",
              "          const docLinkHtml = 'Like what you see? Visit the ' +\n",
              "            '<a target=\"_blank\" href=https://colab.research.google.com/notebooks/data_table.ipynb>data table notebook</a>'\n",
              "            + ' to learn more about interactive tables.';\n",
              "          element.innerHTML = '';\n",
              "          dataTable['output_type'] = 'display_data';\n",
              "          await google.colab.output.renderOutput(dataTable, element);\n",
              "          const docLink = document.createElement('div');\n",
              "          docLink.innerHTML = docLinkHtml;\n",
              "          element.appendChild(docLink);\n",
              "        }\n",
              "      </script>\n",
              "    </div>\n",
              "  </div>\n",
              "  "
            ]
          },
          "metadata": {},
          "execution_count": 47
        }
      ]
    },
    {
      "cell_type": "code",
      "source": [
        "data.shape"
      ],
      "metadata": {
        "id": "lqvPSrwAfDEs",
        "colab": {
          "base_uri": "https://localhost:8080/"
        },
        "outputId": "0fc35378-4502-4e07-83b1-f2825b9e2f55"
      },
      "execution_count": 48,
      "outputs": [
        {
          "output_type": "execute_result",
          "data": {
            "text/plain": [
              "(200, 5)"
            ]
          },
          "metadata": {},
          "execution_count": 48
        }
      ]
    },
    {
      "cell_type": "code",
      "source": [
        "data.size"
      ],
      "metadata": {
        "id": "5ip39yw_fHWL",
        "colab": {
          "base_uri": "https://localhost:8080/"
        },
        "outputId": "471f0764-62b3-43b3-cc39-1d6456f8adfa"
      },
      "execution_count": 49,
      "outputs": [
        {
          "output_type": "execute_result",
          "data": {
            "text/plain": [
              "1000"
            ]
          },
          "metadata": {},
          "execution_count": 49
        }
      ]
    },
    {
      "cell_type": "code",
      "source": [
        "data.info()"
      ],
      "metadata": {
        "id": "aE6dIv2yfZQM",
        "colab": {
          "base_uri": "https://localhost:8080/"
        },
        "outputId": "a2798f79-c612-4a4c-b366-66e5d8c2c61d"
      },
      "execution_count": 50,
      "outputs": [
        {
          "output_type": "stream",
          "name": "stdout",
          "text": [
            "<class 'pandas.core.frame.DataFrame'>\n",
            "RangeIndex: 200 entries, 0 to 199\n",
            "Data columns (total 5 columns):\n",
            " #   Column                  Non-Null Count  Dtype \n",
            "---  ------                  --------------  ----- \n",
            " 0   CustomerID              200 non-null    int64 \n",
            " 1   Gender                  200 non-null    object\n",
            " 2   Age                     200 non-null    int64 \n",
            " 3   Annual Income (k$)      200 non-null    int64 \n",
            " 4   Spending Score (1-100)  200 non-null    int64 \n",
            "dtypes: int64(4), object(1)\n",
            "memory usage: 7.9+ KB\n"
          ]
        }
      ]
    },
    {
      "cell_type": "markdown",
      "source": [
        "# **Perform Below Visulizations**"
      ],
      "metadata": {
        "id": "ltn6TPDmfdOC"
      }
    },
    {
      "cell_type": "markdown",
      "source": [
        "### Univariate Analysis"
      ],
      "metadata": {
        "id": "aBFwQpKvfkFA"
      }
    },
    {
      "cell_type": "code",
      "source": [
        "data.hist(figsize=(20,10), grid=False, layout=(2,4),bins=30)\n",
        "plt.show()"
      ],
      "metadata": {
        "id": "-0HmZawdfcZt",
        "colab": {
          "base_uri": "https://localhost:8080/",
          "height": 300
        },
        "outputId": "165f1eff-8a04-4292-9e87-75049359b58f"
      },
      "execution_count": 51,
      "outputs": [
        {
          "output_type": "display_data",
          "data": {
            "text/plain": [
              "<Figure size 1440x720 with 8 Axes>"
            ],
            "image/png": "[encoded data removed]"
          },
          "metadata": {
            "needs_background": "light"
          }
        }
      ]
    },
    {
      "cell_type": "code",
      "source": [
        "data[\"Annual Income (k$)\"].plot(kind='hist')"
      ],
      "metadata": {
        "id": "l2BqmAadf4Tl",
        "colab": {
          "base_uri": "https://localhost:8080/",
          "height": 282
        },
        "outputId": "a68f9b5f-019c-476d-ce86-f783bb0a437c"
      },
      "execution_count": 52,
      "outputs": [
        {
          "output_type": "execute_result",
          "data": {
            "text/plain": [
              "<matplotlib.axes._subplots.AxesSubplot at 0x7fe25c96f250>"
            ]
          },
          "metadata": {},
          "execution_count": 52
        },
        {
          "output_type": "display_data",
          "data": {
            "text/plain": [
              "<Figure size 432x288 with 1 Axes>"
            ],
            "image/png": "[encoded data removed]"
          },
          "metadata": {
            "needs_background": "light"
          }
        }
      ]
    },
    {
      "cell_type": "markdown",
      "source": [
        "### Bi-variate Analysis"
      ],
      "metadata": {
        "id": "Z1nANYWjgC7f"
      }
    },
    {
      "cell_type": "code",
      "source": [
        "sns.scatterplot(data.CustomerID,data.Age)"
      ],
      "metadata": {
        "id": "bkjv0e9CgCqw",
        "colab": {
          "base_uri": "https://localhost:8080/",
          "height": 296
        },
        "outputId": "f32dd729-648f-42e4-b5ca-711f168dda0e"
      },
      "execution_count": 53,
      "outputs": [
        {
          "output_type": "execute_result",
          "data": {
            "text/plain": [
              "<matplotlib.axes._subplots.AxesSubplot at 0x7fe25c6ecb50>"
            ]
          },
          "metadata": {},
          "execution_count": 53
        },
        {
          "output_type": "display_data",
          "data": {
            "text/plain": [
              "<Figure size 432x288 with 1 Axes>"
            ],
            "image/png": "[encoded data removed]"
          },
          "metadata": {
            "needs_background": "light"
          }
        }
      ]
    },
    {
      "cell_type": "markdown",
      "source": [
        "### Multi -Variate Analysis"
      ],
      "metadata": {
        "id": "PyxK6Xmjgf7m"
      }
    },
    {
      "cell_type": "code",
      "source": [
        "sns.pairplot(data)"
      ],
      "metadata": {
        "id": "7yWyTTFwgm8E",
        "colab": {
          "base_uri": "https://localhost:8080/",
          "height": 743
        },
        "outputId": "60f2dbb2-0b85-4b26-972a-d2445d1b6a9e"
      },
      "execution_count": 54,
      "outputs": [
        {
          "output_type": "execute_result",
          "data": {
            "text/plain": [
              "<seaborn.axisgrid.PairGrid at 0x7fe25c6c1d90>"
            ]
          },
          "metadata": {},
          "execution_count": 54
        },
        {
          "output_type": "display_data",
          "data": {
            "text/plain": [
              "<Figure size 720x720 with 20 Axes>"
            ],
            "image/png": "[encoded data removed]"
          },
          "metadata": {
            "needs_background": "light"
          }
        }
      ]
    },
    {
      "cell_type": "markdown",
      "source": [
        "# **4.Perform descriptive statistics on the dataset**"
      ],
      "metadata": {
        "id": "bnPOulNZgr96"
      }
    },
    {
      "cell_type": "code",
      "source": [
        "data.describe()"
      ],
      "metadata": {
        "id": "7WqIWaI1gp41",
        "colab": {
          "base_uri": "https://localhost:8080/",
          "height": 300
        },
        "outputId": "cd6926c6-d51a-4632-cd99-1283906c5e9c"
      },
      "execution_count": 55,
      "outputs": [
        {
          "output_type": "execute_result",
          "data": {
            "text/plain": [
              "       CustomerID         Age  Annual Income (k$)  Spending Score (1-100)\n",
              "count  200.000000  200.000000          200.000000              200.000000\n",
              "mean   100.500000   38.850000           60.560000               50.200000\n",
              "std     57.879185   13.969007           26.264721               25.823522\n",
              "min      1.000000   18.000000           15.000000                1.000000\n",
              "25%     50.750000   28.750000           41.500000               34.750000\n",
              "50%    100.500000   36.000000           61.500000               50.000000\n",
              "75%    150.250000   49.000000           78.000000               73.000000\n",
              "max    200.000000   70.000000          137.000000               99.000000"
            ],
            "text/html": [
              "\n",
              "  <div id=\"df-4d7269e3-deaf-45ff-8727-077d71c01774\">\n",
              "    <div class=\"colab-df-container\">\n",
              "      <div>\n",
              "<style scoped>\n",
              "    .dataframe tbody tr th:only-of-type {\n",
              "        vertical-align: middle;\n",
              "    }\n",
              "\n",
              "    .dataframe tbody tr th {\n",
              "        vertical-align: top;\n",
              "    }\n",
              "\n",
              "    .dataframe thead th {\n",
              "        text-align: right;\n",
              "    }\n",
              "</style>\n",
              "<table border=\"1\" class=\"dataframe\">\n",
              "  <thead>\n",
              "    <tr style=\"text-align: right;\">\n",
              "      <th></th>\n",
              "      <th>CustomerID</th>\n",
              "      <th>Age</th>\n",
              "      <th>Annual Income (k$)</th>\n",
              "      <th>Spending Score (1-100)</th>\n",
              "    </tr>\n",
              "  </thead>\n",
              "  <tbody>\n",
              "    <tr>\n",
              "      <th>count</th>\n",
              "      <td>200.000000</td>\n",
              "      <td>200.000000</td>\n",
              "      <td>200.000000</td>\n",
              "      <td>200.000000</td>\n",
              "    </tr>\n",
              "    <tr>\n",
              "      <th>mean</th>\n",
              "      <td>100.500000</td>\n",
              "      <td>38.850000</td>\n",
              "      <td>60.560000</td>\n",
              "      <td>50.200000</td>\n",
              "    </tr>\n",
              "    <tr>\n",
              "      <th>std</th>\n",
              "      <td>57.879185</td>\n",
              "      <td>13.969007</td>\n",
              "      <td>26.264721</td>\n",
              "      <td>25.823522</td>\n",
              "    </tr>\n",
              "    <tr>\n",
              "      <th>min</th>\n",
              "      <td>1.000000</td>\n",
              "      <td>18.000000</td>\n",
              "      <td>15.000000</td>\n",
              "      <td>1.000000</td>\n",
              "    </tr>\n",
              "    <tr>\n",
              "      <th>25%</th>\n",
              "      <td>50.750000</td>\n",
              "      <td>28.750000</td>\n",
              "      <td>41.500000</td>\n",
              "      <td>34.750000</td>\n",
              "    </tr>\n",
              "    <tr>\n",
              "      <th>50%</th>\n",
              "      <td>100.500000</td>\n",
              "      <td>36.000000</td>\n",
              "      <td>61.500000</td>\n",
              "      <td>50.000000</td>\n",
              "    </tr>\n",
              "    <tr>\n",
              "      <th>75%</th>\n",
              "      <td>150.250000</td>\n",
              "      <td>49.000000</td>\n",
              "      <td>78.000000</td>\n",
              "      <td>73.000000</td>\n",
              "    </tr>\n",
              "    <tr>\n",
              "      <th>max</th>\n",
              "      <td>200.000000</td>\n",
              "      <td>70.000000</td>\n",
              "      <td>137.000000</td>\n",
              "      <td>99.000000</td>\n",
              "    </tr>\n",
              "  </tbody>\n",
              "</table>\n",
              "</div>\n",
              "      <button class=\"colab-df-convert\" onclick=\"convertToInteractive('df-4d7269e3-deaf-45ff-8727-077d71c01774')\"\n",
              "              title=\"Convert this dataframe to an interactive table.\"\n",
              "              style=\"display:none;\">\n",
              "        \n",
              "  <svg xmlns=\"http://www.w3.org/2000/svg\" height=\"24px\"viewBox=\"0 0 24 24\"\n",
              "       width=\"24px\">\n",
              "    <path d=\"M0 0h24v24H0V0z\" fill=\"none\"/>\n",
              "    <path d=\"M18.56 5.44l.94 2.06.94-2.06 2.06-.94-2.06-.94-.94-2.06-.94 2.06-2.06.94zm-11 1L8.5 8.5l.94-2.06 2.06-.94-2.06-.94L8.5 2.5l-.94 2.06-2.06.94zm10 10l.94 2.06.94-2.06 2.06-.94-2.06-.94-.94-2.06-.94 2.06-2.06.94z\"/><path d=\"M17.41 7.96l-1.37-1.37c-.4-.4-.92-.59-1.43-.59-.52 0-1.04.2-1.43.59L10.3 9.45l-7.72 7.72c-.78.78-.78 2.05 0 2.83L4 21.41c.39.39.9.59 1.41.59.51 0 1.02-.2 1.41-.59l7.78-7.78 2.81-2.81c.8-.78.8-2.07 0-2.86zM5.41 20L4 18.59l7.72-7.72 1.47 1.35L5.41 20z\"/>\n",
              "  </svg>\n",
              "      </button>\n",
              "      \n",
              "  <style>\n",
              "    .colab-df-container {\n",
              "      display:flex;\n",
              "      flex-wrap:wrap;\n",
              "      gap: 12px;\n",
              "    }\n",
              "\n",
              "    .colab-df-convert {\n",
              "      background-color: #E8F0FE;\n",
              "      border: none;\n",
              "      border-radius: 50%;\n",
              "      cursor: pointer;\n",
              "      display: none;\n",
              "      fill: #1967D2;\n",
              "      height: 32px;\n",
              "      padding: 0 0 0 0;\n",
              "      width: 32px;\n",
              "    }\n",
              "\n",
              "    .colab-df-convert:hover {\n",
              "      background-color: #E2EBFA;\n",
              "      box-shadow: 0px 1px 2px rgba(60, 64, 67, 0.3), 0px 1px 3px 1px rgba(60, 64, 67, 0.15);\n",
              "      fill: #174EA6;\n",
              "    }\n",
              "\n",
              "    [theme=dark] .colab-df-convert {\n",
              "      background-color: #3B4455;\n",
              "      fill: #D2E3FC;\n",
              "    }\n",
              "\n",
              "    [theme=dark] .colab-df-convert:hover {\n",
              "      background-color: #434B5C;\n",
              "      box-shadow: 0px 1px 3px 1px rgba(0, 0, 0, 0.15);\n",
              "      filter: drop-shadow(0px 1px 2px rgba(0, 0, 0, 0.3));\n",
              "      fill: #FFFFFF;\n",
              "    }\n",
              "  </style>\n",
              "\n",
              "      <script>\n",
              "        const buttonEl =\n",
              "          document.querySelector('#df-4d7269e3-deaf-45ff-8727-077d71c01774 button.colab-df-convert');\n",
              "        buttonEl.style.display =\n",
              "          google.colab.kernel.accessAllowed ? 'block' : 'none';\n",
              "\n",
              "        async function convertToInteractive(key) {\n",
              "          const element = document.querySelector('#df-4d7269e3-deaf-45ff-8727-077d71c01774');\n",
              "          const dataTable =\n",
              "            await google.colab.kernel.invokeFunction('convertToInteractive',\n",
              "                                                     [key], {});\n",
              "          if (!dataTable) return;\n",
              "\n",
              "          const docLinkHtml = 'Like what you see? Visit the ' +\n",
              "            '<a target=\"_blank\" href=https://colab.research.google.com/notebooks/data_table.ipynb>data table notebook</a>'\n",
              "            + ' to learn more about interactive tables.';\n",
              "          element.innerHTML = '';\n",
              "          dataTable['output_type'] = 'display_data';\n",
              "          await google.colab.output.renderOutput(dataTable, element);\n",
              "          const docLink = document.createElement('div');\n",
              "          docLink.innerHTML = docLinkHtml;\n",
              "          element.appendChild(docLink);\n",
              "        }\n",
              "      </script>\n",
              "    </div>\n",
              "  </div>\n",
              "  "
            ]
          },
          "metadata": {},
          "execution_count": 55
        }
      ]
    },
    {
      "cell_type": "markdown",
      "source": [
        "# **5.Check for Missing values and deal with them**"
      ],
      "metadata": {
        "id": "dvQ8tRq5grYe"
      }
    },
    {
      "cell_type": "markdown",
      "source": [
        "data.isna().sum()"
      ],
      "metadata": {
        "id": "R_cXkBmVg_kv"
      }
    },
    {
      "cell_type": "markdown",
      "source": [
        "# **6.Find the outliers and replace them outliers.**"
      ],
      "metadata": {
        "id": "-vVYFoA8hH44"
      }
    },
    {
      "cell_type": "code",
      "source": [
        "data.skew()"
      ],
      "metadata": {
        "id": "NkCTMRWDhI0O",
        "colab": {
          "base_uri": "https://localhost:8080/"
        },
        "outputId": "f39b7dac-43e4-4b50-bfea-fcffd9c55d1a"
      },
      "execution_count": 56,
      "outputs": [
        {
          "output_type": "execute_result",
          "data": {
            "text/plain": [
              "CustomerID                0.000000\n",
              "Age                       0.485569\n",
              "Annual Income (k$)        0.321843\n",
              "Spending Score (1-100)   -0.047220\n",
              "dtype: float64"
            ]
          },
          "metadata": {},
          "execution_count": 56
        }
      ]
    },
    {
      "cell_type": "code",
      "source": [
        "sns.boxplot(x=data['Age'],data=data)"
      ],
      "metadata": {
        "id": "G-RL4GIehUvL",
        "colab": {
          "base_uri": "https://localhost:8080/",
          "height": 296
        },
        "outputId": "70e12a0b-fecc-4de1-8f91-9b4a366a2f7d"
      },
      "execution_count": 57,
      "outputs": [
        {
          "output_type": "execute_result",
          "data": {
            "text/plain": [
              "<matplotlib.axes._subplots.AxesSubplot at 0x7fe25cb9fa10>"
            ]
          },
          "metadata": {},
          "execution_count": 57
        },
        {
          "output_type": "display_data",
          "data": {
            "text/plain": [
              "<Figure size 432x288 with 1 Axes>"
            ],
            "image/png": "[encoded data removed]"
          },
          "metadata": {
            "needs_background": "light"
          }
        }
      ]
    },
    {
      "cell_type": "code",
      "source": [
        "data['Age'].hist()"
      ],
      "metadata": {
        "id": "n8VlmxAIhUk0",
        "colab": {
          "base_uri": "https://localhost:8080/",
          "height": 282
        },
        "outputId": "d32920f8-0cc7-46e7-ca38-c88dfc74cbc1"
      },
      "execution_count": 58,
      "outputs": [
        {
          "output_type": "execute_result",
          "data": {
            "text/plain": [
              "<matplotlib.axes._subplots.AxesSubplot at 0x7fe25cb52650>"
            ]
          },
          "metadata": {},
          "execution_count": 58
        },
        {
          "output_type": "display_data",
          "data": {
            "text/plain": [
              "<Figure size 432x288 with 1 Axes>"
            ],
            "image/png": "[encoded data removed]"
          },
          "metadata": {
            "needs_background": "light"
          }
        }
      ]
    },
    {
      "cell_type": "code",
      "source": [
        "print('skewness value of Age:',data['Age'].skew())"
      ],
      "metadata": {
        "id": "al1Xqm2nhUSp",
        "colab": {
          "base_uri": "https://localhost:8080/"
        },
        "outputId": "aaa28609-658c-4fa8-bb14-d0cb0a37b6ad"
      },
      "execution_count": 59,
      "outputs": [
        {
          "output_type": "stream",
          "name": "stdout",
          "text": [
            "skewness value of Age: 0.48556885096681657\n"
          ]
        }
      ]
    },
    {
      "cell_type": "code",
      "source": [
        "sns.boxplot(x=data['Age'],data=data)"
      ],
      "metadata": {
        "id": "NBeD9haMhpcI",
        "colab": {
          "base_uri": "https://localhost:8080/",
          "height": 296
        },
        "outputId": "9d1b08ac-2a3a-4b91-e351-04eb578b0f26"
      },
      "execution_count": 60,
      "outputs": [
        {
          "output_type": "execute_result",
          "data": {
            "text/plain": [
              "<matplotlib.axes._subplots.AxesSubplot at 0x7fe25c1f0410>"
            ]
          },
          "metadata": {},
          "execution_count": 60
        },
        {
          "output_type": "display_data",
          "data": {
            "text/plain": [
              "<Figure size 432x288 with 1 Axes>"
            ],
            "image/png": "[encoded data removed]"
          },
          "metadata": {
            "needs_background": "light"
          }
        }
      ]
    },
    {
      "cell_type": "markdown",
      "source": [
        "# **7.Check for Categorical columns and perform encoding**"
      ],
      "metadata": {
        "id": "eghD7HcWhxst"
      }
    },
    {
      "cell_type": "code",
      "source": [
        "data.info "
      ],
      "metadata": {
        "id": "3eqh1NlahpX2",
        "colab": {
          "base_uri": "https://localhost:8080/"
        },
        "outputId": "6b1139db-d035-4950-fe44-aec03bca9795"
      },
      "execution_count": 61,
      "outputs": [
        {
          "output_type": "execute_result",
          "data": {
            "text/plain": [
              "<bound method DataFrame.info of      CustomerID  Gender  Age  Annual Income (k$)  Spending Score (1-100)\n",
              "0             1    Male   19                  15                      39\n",
              "1             2    Male   21                  15                      81\n",
              "2             3  Female   20                  16                       6\n",
              "3             4  Female   23                  16                      77\n",
              "4             5  Female   31                  17                      40\n",
              "..          ...     ...  ...                 ...                     ...\n",
              "195         196  Female   35                 120                      79\n",
              "196         197  Female   45                 126                      28\n",
              "197         198    Male   32                 126                      74\n",
              "198         199    Male   32                 137                      18\n",
              "199         200    Male   30                 137                      83\n",
              "\n",
              "[200 rows x 5 columns]>"
            ]
          },
          "metadata": {},
          "execution_count": 61
        }
      ]
    },
    {
      "cell_type": "code",
      "source": [
        "from sklearn.preprocessing import LabelEncoder\n",
        "le=LabelEncoder()\n",
        "data['Gender']=le.fit_transform(data['Gender'])\n",
        "data.head()"
      ],
      "metadata": {
        "id": "OGAk5HFShpUS",
        "colab": {
          "base_uri": "https://localhost:8080/",
          "height": 206
        },
        "outputId": "66b8701f-c6b7-4715-ad1b-eb8256d4e008"
      },
      "execution_count": 62,
      "outputs": [
        {
          "output_type": "execute_result",
          "data": {
            "text/plain": [
              "   CustomerID  Gender  Age  Annual Income (k$)  Spending Score (1-100)\n",
              "0           1       1   19                  15                      39\n",
              "1           2       1   21                  15                      81\n",
              "2           3       0   20                  16                       6\n",
              "3           4       0   23                  16                      77\n",
              "4           5       0   31                  17                      40"
            ],
            "text/html": [
              "\n",
              "  <div id=\"df-d7de56ff-52a4-4e2b-936d-e8169f0894b3\">\n",
              "    <div class=\"colab-df-container\">\n",
              "      <div>\n",
              "<style scoped>\n",
              "    .dataframe tbody tr th:only-of-type {\n",
              "        vertical-align: middle;\n",
              "    }\n",
              "\n",
              "    .dataframe tbody tr th {\n",
              "        vertical-align: top;\n",
              "    }\n",
              "\n",
              "    .dataframe thead th {\n",
              "        text-align: right;\n",
              "    }\n",
              "</style>\n",
              "<table border=\"1\" class=\"dataframe\">\n",
              "  <thead>\n",
              "    <tr style=\"text-align: right;\">\n",
              "      <th></th>\n",
              "      <th>CustomerID</th>\n",
              "      <th>Gender</th>\n",
              "      <th>Age</th>\n",
              "      <th>Annual Income (k$)</th>\n",
              "      <th>Spending Score (1-100)</th>\n",
              "    </tr>\n",
              "  </thead>\n",
              "  <tbody>\n",
              "    <tr>\n",
              "      <th>0</th>\n",
              "      <td>1</td>\n",
              "      <td>1</td>\n",
              "      <td>19</td>\n",
              "      <td>15</td>\n",
              "      <td>39</td>\n",
              "    </tr>\n",
              "    <tr>\n",
              "      <th>1</th>\n",
              "      <td>2</td>\n",
              "      <td>1</td>\n",
              "      <td>21</td>\n",
              "      <td>15</td>\n",
              "      <td>81</td>\n",
              "    </tr>\n",
              "    <tr>\n",
              "      <th>2</th>\n",
              "      <td>3</td>\n",
              "      <td>0</td>\n",
              "      <td>20</td>\n",
              "      <td>16</td>\n",
              "      <td>6</td>\n",
              "    </tr>\n",
              "    <tr>\n",
              "      <th>3</th>\n",
              "      <td>4</td>\n",
              "      <td>0</td>\n",
              "      <td>23</td>\n",
              "      <td>16</td>\n",
              "      <td>77</td>\n",
              "    </tr>\n",
              "    <tr>\n",
              "      <th>4</th>\n",
              "      <td>5</td>\n",
              "      <td>0</td>\n",
              "      <td>31</td>\n",
              "      <td>17</td>\n",
              "      <td>40</td>\n",
              "    </tr>\n",
              "  </tbody>\n",
              "</table>\n",
              "</div>\n",
              "      <button class=\"colab-df-convert\" onclick=\"convertToInteractive('df-d7de56ff-52a4-4e2b-936d-e8169f0894b3')\"\n",
              "              title=\"Convert this dataframe to an interactive table.\"\n",
              "              style=\"display:none;\">\n",
              "        \n",
              "  <svg xmlns=\"http://www.w3.org/2000/svg\" height=\"24px\"viewBox=\"0 0 24 24\"\n",
              "       width=\"24px\">\n",
              "    <path d=\"M0 0h24v24H0V0z\" fill=\"none\"/>\n",
              "    <path d=\"M18.56 5.44l.94 2.06.94-2.06 2.06-.94-2.06-.94-.94-2.06-.94 2.06-2.06.94zm-11 1L8.5 8.5l.94-2.06 2.06-.94-2.06-.94L8.5 2.5l-.94 2.06-2.06.94zm10 10l.94 2.06.94-2.06 2.06-.94-2.06-.94-.94-2.06-.94 2.06-2.06.94z\"/><path d=\"M17.41 7.96l-1.37-1.37c-.4-.4-.92-.59-1.43-.59-.52 0-1.04.2-1.43.59L10.3 9.45l-7.72 7.72c-.78.78-.78 2.05 0 2.83L4 21.41c.39.39.9.59 1.41.59.51 0 1.02-.2 1.41-.59l7.78-7.78 2.81-2.81c.8-.78.8-2.07 0-2.86zM5.41 20L4 18.59l7.72-7.72 1.47 1.35L5.41 20z\"/>\n",
              "  </svg>\n",
              "      </button>\n",
              "      \n",
              "  <style>\n",
              "    .colab-df-container {\n",
              "      display:flex;\n",
              "      flex-wrap:wrap;\n",
              "      gap: 12px;\n",
              "    }\n",
              "\n",
              "    .colab-df-convert {\n",
              "      background-color: #E8F0FE;\n",
              "      border: none;\n",
              "      border-radius: 50%;\n",
              "      cursor: pointer;\n",
              "      display: none;\n",
              "      fill: #1967D2;\n",
              "      height: 32px;\n",
              "      padding: 0 0 0 0;\n",
              "      width: 32px;\n",
              "    }\n",
              "\n",
              "    .colab-df-convert:hover {\n",
              "      background-color: #E2EBFA;\n",
              "      box-shadow: 0px 1px 2px rgba(60, 64, 67, 0.3), 0px 1px 3px 1px rgba(60, 64, 67, 0.15);\n",
              "      fill: #174EA6;\n",
              "    }\n",
              "\n",
              "    [theme=dark] .colab-df-convert {\n",
              "      background-color: #3B4455;\n",
              "      fill: #D2E3FC;\n",
              "    }\n",
              "\n",
              "    [theme=dark] .colab-df-convert:hover {\n",
              "      background-color: #434B5C;\n",
              "      box-shadow: 0px 1px 3px 1px rgba(0, 0, 0, 0.15);\n",
              "      filter: drop-shadow(0px 1px 2px rgba(0, 0, 0, 0.3));\n",
              "      fill: #FFFFFF;\n",
              "    }\n",
              "  </style>\n",
              "\n",
              "      <script>\n",
              "        const buttonEl =\n",
              "          document.querySelector('#df-d7de56ff-52a4-4e2b-936d-e8169f0894b3 button.colab-df-convert');\n",
              "        buttonEl.style.display =\n",
              "          google.colab.kernel.accessAllowed ? 'block' : 'none';\n",
              "\n",
              "        async function convertToInteractive(key) {\n",
              "          const element = document.querySelector('#df-d7de56ff-52a4-4e2b-936d-e8169f0894b3');\n",
              "          const dataTable =\n",
              "            await google.colab.kernel.invokeFunction('convertToInteractive',\n",
              "                                                     [key], {});\n",
              "          if (!dataTable) return;\n",
              "\n",
              "          const docLinkHtml = 'Like what you see? Visit the ' +\n",
              "            '<a target=\"_blank\" href=https://colab.research.google.com/notebooks/data_table.ipynb>data table notebook</a>'\n",
              "            + ' to learn more about interactive tables.';\n",
              "          element.innerHTML = '';\n",
              "          dataTable['output_type'] = 'display_data';\n",
              "          await google.colab.output.renderOutput(dataTable, element);\n",
              "          const docLink = document.createElement('div');\n",
              "          docLink.innerHTML = docLinkHtml;\n",
              "          element.appendChild(docLink);\n",
              "        }\n",
              "      </script>\n",
              "    </div>\n",
              "  </div>\n",
              "  "
            ]
          },
          "metadata": {},
          "execution_count": 62
        }
      ]
    },
    {
      "cell_type": "code",
      "source": [
        "data[\"Gender\"].unique()"
      ],
      "metadata": {
        "id": "1-Oq3jPzhpAf",
        "colab": {
          "base_uri": "https://localhost:8080/"
        },
        "outputId": "5f5ba8c7-c921-4b0f-db54-d7a2289c9741"
      },
      "execution_count": 63,
      "outputs": [
        {
          "output_type": "execute_result",
          "data": {
            "text/plain": [
              "array([1, 0])"
            ]
          },
          "metadata": {},
          "execution_count": 63
        }
      ]
    },
    {
      "cell_type": "markdown",
      "source": [
        "# **8. Scaling the Data**"
      ],
      "metadata": {
        "id": "57YO9l2LiFTF"
      }
    },
    {
      "cell_type": "code",
      "source": [
        "x=data.drop(columns=['Gender','Age'])\n",
        "print(x)"
      ],
      "metadata": {
        "id": "0NiusI5OiI79",
        "colab": {
          "base_uri": "https://localhost:8080/"
        },
        "outputId": "4f0dfe6b-6e72-4a85-c952-e3a7b3fd8141"
      },
      "execution_count": 64,
      "outputs": [
        {
          "output_type": "stream",
          "name": "stdout",
          "text": [
            "     CustomerID  Annual Income (k$)  Spending Score (1-100)\n",
            "0             1                  15                      39\n",
            "1             2                  15                      81\n",
            "2             3                  16                       6\n",
            "3             4                  16                      77\n",
            "4             5                  17                      40\n",
            "..          ...                 ...                     ...\n",
            "195         196                 120                      79\n",
            "196         197                 126                      28\n",
            "197         198                 126                      74\n",
            "198         199                 137                      18\n",
            "199         200                 137                      83\n",
            "\n",
            "[200 rows x 3 columns]\n"
          ]
        }
      ]
    },
    {
      "cell_type": "code",
      "source": [
        "S=scale(x)\n",
        "print(S)"
      ],
      "metadata": {
        "id": "uCZK4ADLiMJN",
        "colab": {
          "base_uri": "https://localhost:8080/"
        },
        "outputId": "98a375dd-4c1e-44bf-e04c-915d5f261286"
      },
      "execution_count": 65,
      "outputs": [
        {
          "output_type": "stream",
          "name": "stdout",
          "text": [
            "[[-1.7234121  -1.73899919 -0.43480148]\n",
            " [-1.70609137 -1.73899919  1.19570407]\n",
            " [-1.68877065 -1.70082976 -1.71591298]\n",
            " [-1.67144992 -1.70082976  1.04041783]\n",
            " [-1.6541292  -1.66266033 -0.39597992]\n",
            " [-1.63680847 -1.66266033  1.00159627]\n",
            " [-1.61948775 -1.62449091 -1.71591298]\n",
            " [-1.60216702 -1.62449091  1.70038436]\n",
            " [-1.5848463  -1.58632148 -1.83237767]\n",
            " [-1.56752558 -1.58632148  0.84631002]\n",
            " [-1.55020485 -1.58632148 -1.4053405 ]\n",
            " [-1.53288413 -1.58632148  1.89449216]\n",
            " [-1.5155634  -1.54815205 -1.36651894]\n",
            " [-1.49824268 -1.54815205  1.04041783]\n",
            " [-1.48092195 -1.54815205 -1.44416206]\n",
            " [-1.46360123 -1.54815205  1.11806095]\n",
            " [-1.4462805  -1.50998262 -0.59008772]\n",
            " [-1.42895978 -1.50998262  0.61338066]\n",
            " [-1.41163905 -1.43364376 -0.82301709]\n",
            " [-1.39431833 -1.43364376  1.8556706 ]\n",
            " [-1.3769976  -1.39547433 -0.59008772]\n",
            " [-1.35967688 -1.39547433  0.88513158]\n",
            " [-1.34235616 -1.3573049  -1.75473454]\n",
            " [-1.32503543 -1.3573049   0.88513158]\n",
            " [-1.30771471 -1.24279661 -1.4053405 ]\n",
            " [-1.29039398 -1.24279661  1.23452563]\n",
            " [-1.27307326 -1.24279661 -0.7065524 ]\n",
            " [-1.25575253 -1.24279661  0.41927286]\n",
            " [-1.23843181 -1.20462718 -0.74537397]\n",
            " [-1.22111108 -1.20462718  1.42863343]\n",
            " [-1.20379036 -1.16645776 -1.7935561 ]\n",
            " [-1.18646963 -1.16645776  0.88513158]\n",
            " [-1.16914891 -1.05194947 -1.7935561 ]\n",
            " [-1.15182818 -1.05194947  1.62274124]\n",
            " [-1.13450746 -1.05194947 -1.4053405 ]\n",
            " [-1.11718674 -1.05194947  1.19570407]\n",
            " [-1.09986601 -1.01378004 -1.28887582]\n",
            " [-1.08254529 -1.01378004  0.88513158]\n",
            " [-1.06522456 -0.89927175 -0.93948177]\n",
            " [-1.04790384 -0.89927175  0.96277471]\n",
            " [-1.03058311 -0.86110232 -0.59008772]\n",
            " [-1.01326239 -0.86110232  1.62274124]\n",
            " [-0.99594166 -0.82293289 -0.55126616]\n",
            " [-0.97862094 -0.82293289  0.41927286]\n",
            " [-0.96130021 -0.82293289 -0.86183865]\n",
            " [-0.94397949 -0.82293289  0.5745591 ]\n",
            " [-0.92665877 -0.78476346  0.18634349]\n",
            " [-0.90933804 -0.78476346 -0.12422899]\n",
            " [-0.89201732 -0.78476346 -0.3183368 ]\n",
            " [-0.87469659 -0.78476346 -0.3183368 ]\n",
            " [-0.85737587 -0.70842461  0.06987881]\n",
            " [-0.84005514 -0.70842461  0.38045129]\n",
            " [-0.82273442 -0.67025518  0.14752193]\n",
            " [-0.80541369 -0.67025518  0.38045129]\n",
            " [-0.78809297 -0.67025518 -0.20187212]\n",
            " [-0.77077224 -0.67025518 -0.35715836]\n",
            " [-0.75345152 -0.63208575 -0.00776431]\n",
            " [-0.73613079 -0.63208575 -0.16305055]\n",
            " [-0.71881007 -0.55574689  0.03105725]\n",
            " [-0.70148935 -0.55574689 -0.16305055]\n",
            " [-0.68416862 -0.55574689  0.22516505]\n",
            " [-0.6668479  -0.55574689  0.18634349]\n",
            " [-0.64952717 -0.51757746  0.06987881]\n",
            " [-0.63220645 -0.51757746  0.34162973]\n",
            " [-0.61488572 -0.47940803  0.03105725]\n",
            " [-0.597565   -0.47940803  0.34162973]\n",
            " [-0.58024427 -0.47940803 -0.00776431]\n",
            " [-0.56292355 -0.47940803 -0.08540743]\n",
            " [-0.54560282 -0.47940803  0.34162973]\n",
            " [-0.5282821  -0.47940803 -0.12422899]\n",
            " [-0.51096138 -0.4412386   0.18634349]\n",
            " [-0.49364065 -0.4412386  -0.3183368 ]\n",
            " [-0.47631993 -0.40306917 -0.04658587]\n",
            " [-0.4589992  -0.40306917  0.22516505]\n",
            " [-0.44167848 -0.25039146 -0.12422899]\n",
            " [-0.42435775 -0.25039146  0.14752193]\n",
            " [-0.40703703 -0.25039146  0.10870037]\n",
            " [-0.3897163  -0.25039146 -0.08540743]\n",
            " [-0.37239558 -0.25039146  0.06987881]\n",
            " [-0.35507485 -0.25039146 -0.3183368 ]\n",
            " [-0.33775413 -0.25039146  0.03105725]\n",
            " [-0.3204334  -0.25039146  0.18634349]\n",
            " [-0.30311268 -0.25039146 -0.35715836]\n",
            " [-0.28579196 -0.25039146 -0.24069368]\n",
            " [-0.26847123 -0.25039146  0.26398661]\n",
            " [-0.25115051 -0.25039146 -0.16305055]\n",
            " [-0.23382978 -0.13588317  0.30280817]\n",
            " [-0.21650906 -0.13588317  0.18634349]\n",
            " [-0.19918833 -0.09771374  0.38045129]\n",
            " [-0.18186761 -0.09771374 -0.16305055]\n",
            " [-0.16454688 -0.05954431  0.18634349]\n",
            " [-0.14722616 -0.05954431 -0.35715836]\n",
            " [-0.12990543 -0.02137488 -0.04658587]\n",
            " [-0.11258471 -0.02137488 -0.39597992]\n",
            " [-0.09526399 -0.02137488 -0.3183368 ]\n",
            " [-0.07794326 -0.02137488  0.06987881]\n",
            " [-0.06062254 -0.02137488 -0.12422899]\n",
            " [-0.04330181 -0.02137488 -0.00776431]\n",
            " [-0.02598109  0.01679455 -0.3183368 ]\n",
            " [-0.00866036  0.01679455 -0.04658587]\n",
            " [ 0.00866036  0.05496398 -0.35715836]\n",
            " [ 0.02598109  0.05496398 -0.08540743]\n",
            " [ 0.04330181  0.05496398  0.34162973]\n",
            " [ 0.06062254  0.05496398  0.18634349]\n",
            " [ 0.07794326  0.05496398  0.22516505]\n",
            " [ 0.09526399  0.05496398 -0.3183368 ]\n",
            " [ 0.11258471  0.09313341 -0.00776431]\n",
            " [ 0.12990543  0.09313341 -0.16305055]\n",
            " [ 0.14722616  0.09313341 -0.27951524]\n",
            " [ 0.16454688  0.09313341 -0.08540743]\n",
            " [ 0.18186761  0.09313341  0.06987881]\n",
            " [ 0.19918833  0.09313341  0.14752193]\n",
            " [ 0.21650906  0.13130284 -0.3183368 ]\n",
            " [ 0.23382978  0.13130284 -0.16305055]\n",
            " [ 0.25115051  0.16947227 -0.08540743]\n",
            " [ 0.26847123  0.16947227 -0.00776431]\n",
            " [ 0.28579196  0.16947227 -0.27951524]\n",
            " [ 0.30311268  0.16947227  0.34162973]\n",
            " [ 0.3204334   0.24581112 -0.27951524]\n",
            " [ 0.33775413  0.24581112  0.26398661]\n",
            " [ 0.35507485  0.24581112  0.22516505]\n",
            " [ 0.37239558  0.24581112 -0.39597992]\n",
            " [ 0.3897163   0.32214998  0.30280817]\n",
            " [ 0.40703703  0.32214998  1.58391968]\n",
            " [ 0.42435775  0.36031941 -0.82301709]\n",
            " [ 0.44167848  0.36031941  1.04041783]\n",
            " [ 0.4589992   0.39848884 -0.59008772]\n",
            " [ 0.47631993  0.39848884  1.73920592]\n",
            " [ 0.49364065  0.39848884 -1.52180518]\n",
            " [ 0.51096138  0.39848884  0.96277471]\n",
            " [ 0.5282821   0.39848884 -1.5994483 ]\n",
            " [ 0.54560282  0.39848884  0.96277471]\n",
            " [ 0.56292355  0.43665827 -0.62890928]\n",
            " [ 0.58024427  0.43665827  0.80748846]\n",
            " [ 0.597565    0.4748277  -1.75473454]\n",
            " [ 0.61488572  0.4748277   1.46745499]\n",
            " [ 0.63220645  0.4748277  -1.67709142]\n",
            " [ 0.64952717  0.4748277   0.88513158]\n",
            " [ 0.6668479   0.51299713 -1.56062674]\n",
            " [ 0.68416862  0.51299713  0.84631002]\n",
            " [ 0.70148935  0.55116656 -1.75473454]\n",
            " [ 0.71881007  0.55116656  1.6615628 ]\n",
            " [ 0.73613079  0.58933599 -0.39597992]\n",
            " [ 0.75345152  0.58933599  1.42863343]\n",
            " [ 0.77077224  0.62750542 -1.48298362]\n",
            " [ 0.78809297  0.62750542  1.81684904]\n",
            " [ 0.80541369  0.62750542 -0.55126616]\n",
            " [ 0.82273442  0.62750542  0.92395314]\n",
            " [ 0.84005514  0.66567484 -1.09476801]\n",
            " [ 0.85737587  0.66567484  1.54509812]\n",
            " [ 0.87469659  0.66567484 -1.28887582]\n",
            " [ 0.89201732  0.66567484  1.46745499]\n",
            " [ 0.90933804  0.66567484 -1.17241113]\n",
            " [ 0.92665877  0.66567484  1.00159627]\n",
            " [ 0.94397949  0.66567484 -1.32769738]\n",
            " [ 0.96130021  0.66567484  1.50627656]\n",
            " [ 0.97862094  0.66567484 -1.91002079]\n",
            " [ 0.99594166  0.66567484  1.07923939]\n",
            " [ 1.01326239  0.66567484 -1.91002079]\n",
            " [ 1.03058311  0.66567484  0.88513158]\n",
            " [ 1.04790384  0.70384427 -0.59008772]\n",
            " [ 1.06522456  0.70384427  1.27334719]\n",
            " [ 1.08254529  0.78018313 -1.75473454]\n",
            " [ 1.09986601  0.78018313  1.6615628 ]\n",
            " [ 1.11718674  0.93286085 -0.93948177]\n",
            " [ 1.13450746  0.93286085  0.96277471]\n",
            " [ 1.15182818  0.97103028 -1.17241113]\n",
            " [ 1.16914891  0.97103028  1.73920592]\n",
            " [ 1.18646963  1.00919971 -0.90066021]\n",
            " [ 1.20379036  1.00919971  0.49691598]\n",
            " [ 1.22111108  1.00919971 -1.44416206]\n",
            " [ 1.23843181  1.00919971  0.96277471]\n",
            " [ 1.25575253  1.00919971 -1.56062674]\n",
            " [ 1.27307326  1.00919971  1.62274124]\n",
            " [ 1.29039398  1.04736914 -1.44416206]\n",
            " [ 1.30771471  1.04736914  1.38981187]\n",
            " [ 1.32503543  1.04736914 -1.36651894]\n",
            " [ 1.34235616  1.04736914  0.72984534]\n",
            " [ 1.35967688  1.23821628 -1.4053405 ]\n",
            " [ 1.3769976   1.23821628  1.54509812]\n",
            " [ 1.39431833  1.390894   -0.7065524 ]\n",
            " [ 1.41163905  1.390894    1.38981187]\n",
            " [ 1.42895978  1.42906343 -1.36651894]\n",
            " [ 1.4462805   1.42906343  1.46745499]\n",
            " [ 1.46360123  1.46723286 -0.43480148]\n",
            " [ 1.48092195  1.46723286  1.81684904]\n",
            " [ 1.49824268  1.54357172 -1.01712489]\n",
            " [ 1.5155634   1.54357172  0.69102378]\n",
            " [ 1.53288413  1.61991057 -1.28887582]\n",
            " [ 1.55020485  1.61991057  1.35099031]\n",
            " [ 1.56752558  1.61991057 -1.05594645]\n",
            " [ 1.5848463   1.61991057  0.72984534]\n",
            " [ 1.60216702  2.00160487 -1.63826986]\n",
            " [ 1.61948775  2.00160487  1.58391968]\n",
            " [ 1.63680847  2.26879087 -1.32769738]\n",
            " [ 1.6541292   2.26879087  1.11806095]\n",
            " [ 1.67144992  2.49780745 -0.86183865]\n",
            " [ 1.68877065  2.49780745  0.92395314]\n",
            " [ 1.70609137  2.91767117 -1.25005425]\n",
            " [ 1.7234121   2.91767117  1.27334719]]\n"
          ]
        }
      ]
    },
    {
      "cell_type": "markdown",
      "source": [
        "# **9.Perform any of the clustering algorithms**"
      ],
      "metadata": {
        "id": "zz8bHyfwiPpk"
      }
    },
    {
      "cell_type": "code",
      "source": [
        "#finding optimal number of clusters using the elbow method  \n",
        "from sklearn.cluster import KMeans  \n",
        "wcss_list= []  #Initializing the list for the values of WCSS  \n",
        "  \n",
        "#Using for loop for iterations from 1 to 10.  \n",
        "for i in range(1, 11):  \n",
        "    kmeans = KMeans(n_clusters=i, init='k-means++', random_state= 42)  \n",
        "    kmeans.fit(x)  \n",
        "    wcss_list.append(kmeans.inertia_)  \n",
        "plt.plot(range(1, 11), wcss_list)  \n",
        "plt.title('The Elobw Method Graph')  \n",
        "plt.xlabel('Number of clusters(k)')  \n",
        "plt.ylabel('wcss_list')  \n",
        "plt.show()  "
      ],
      "metadata": {
        "id": "a0FSqRHRiVou",
        "colab": {
          "base_uri": "https://localhost:8080/",
          "height": 295
        },
        "outputId": "55b962d8-a360-4eef-95c5-809f3fdd235e"
      },
      "execution_count": 66,
      "outputs": [
        {
          "output_type": "display_data",
          "data": {
            "text/plain": [
              "<Figure size 432x288 with 1 Axes>"
            ],
            "image/png": "[encoded data removed]"
          },
          "metadata": {
            "needs_background": "light"
          }
        }
      ]
    },
    {
      "cell_type": "markdown",
      "source": [
        "# **10. Add the cluster data with the primary dataset**"
      ],
      "metadata": {
        "id": "ARnylR3aiTxd"
      }
    },
    {
      "cell_type": "code",
      "source": [
        "kmeans = KMeans(n_clusters=5, init='k-means++', random_state= 42)  \n",
        "clus= kmeans.fit_predict(S)"
      ],
      "metadata": {
        "id": "AUHphM9UieuP"
      },
      "execution_count": 67,
      "outputs": []
    },
    {
      "cell_type": "code",
      "source": [
        "clus"
      ],
      "metadata": {
        "id": "tTOC3Dkyiwv4",
        "colab": {
          "base_uri": "https://localhost:8080/"
        },
        "outputId": "761135ea-4bef-4da7-a996-17343de93857"
      },
      "execution_count": 68,
      "outputs": [
        {
          "output_type": "execute_result",
          "data": {
            "text/plain": [
              "array([2, 3, 2, 3, 2, 3, 2, 3, 2, 3, 2, 3, 2, 3, 2, 3, 2, 3, 2, 3, 2, 3,\n",
              "       2, 3, 2, 3, 2, 3, 2, 3, 2, 3, 2, 3, 2, 3, 2, 3, 2, 3, 2, 3, 2, 3,\n",
              "       2, 3, 0, 0, 0, 0, 0, 0, 0, 0, 0, 0, 0, 0, 0, 0, 0, 0, 0, 0, 0, 0,\n",
              "       0, 0, 0, 0, 0, 0, 0, 0, 0, 0, 0, 0, 0, 0, 0, 0, 0, 0, 0, 0, 0, 0,\n",
              "       0, 0, 0, 0, 0, 0, 0, 0, 0, 0, 0, 0, 0, 0, 0, 0, 0, 0, 0, 0, 0, 0,\n",
              "       0, 0, 0, 0, 0, 0, 0, 0, 0, 0, 0, 0, 0, 4, 1, 4, 1, 4, 1, 4, 1, 4,\n",
              "       1, 4, 1, 4, 1, 4, 1, 4, 1, 4, 1, 4, 1, 4, 1, 4, 1, 4, 1, 4, 1, 4,\n",
              "       1, 4, 1, 4, 1, 4, 1, 4, 1, 4, 1, 4, 1, 4, 1, 4, 1, 4, 1, 4, 1, 4,\n",
              "       1, 4, 1, 4, 1, 4, 1, 4, 1, 4, 1, 4, 1, 4, 1, 4, 1, 4, 1, 4, 1, 4,\n",
              "       1, 4], dtype=int32)"
            ]
          },
          "metadata": {},
          "execution_count": 68
        }
      ]
    },
    {
      "cell_type": "markdown",
      "source": [
        "# **11. Split the data into dependent and independent variables**"
      ],
      "metadata": {
        "id": "lm4rHRpWiyUG"
      }
    },
    {
      "cell_type": "code",
      "source": [
        "x=data.drop(columns=['Annual Income (k$)'],axis=1)\n",
        "print(x)"
      ],
      "metadata": {
        "id": "w2W0qH8_i6UJ",
        "colab": {
          "base_uri": "https://localhost:8080/"
        },
        "outputId": "527a0f70-22ee-45e1-a9eb-e8ba0997ee69"
      },
      "execution_count": 69,
      "outputs": [
        {
          "output_type": "stream",
          "name": "stdout",
          "text": [
            "     CustomerID  Gender  Age  Spending Score (1-100)\n",
            "0             1       1   19                      39\n",
            "1             2       1   21                      81\n",
            "2             3       0   20                       6\n",
            "3             4       0   23                      77\n",
            "4             5       0   31                      40\n",
            "..          ...     ...  ...                     ...\n",
            "195         196       0   35                      79\n",
            "196         197       0   45                      28\n",
            "197         198       1   32                      74\n",
            "198         199       1   32                      18\n",
            "199         200       1   30                      83\n",
            "\n",
            "[200 rows x 4 columns]\n"
          ]
        }
      ]
    },
    {
      "cell_type": "code",
      "source": [
        "y=data['Annual Income (k$)']\n",
        "y"
      ],
      "metadata": {
        "id": "hVtLpo1Qi9aE",
        "colab": {
          "base_uri": "https://localhost:8080/"
        },
        "outputId": "f89ffea6-2d0a-4d1f-85e1-5e7b88dcb9f2"
      },
      "execution_count": 70,
      "outputs": [
        {
          "output_type": "execute_result",
          "data": {
            "text/plain": [
              "0       15\n",
              "1       15\n",
              "2       16\n",
              "3       16\n",
              "4       17\n",
              "      ... \n",
              "195    120\n",
              "196    126\n",
              "197    126\n",
              "198    137\n",
              "199    137\n",
              "Name: Annual Income (k$), Length: 200, dtype: int64"
            ]
          },
          "metadata": {},
          "execution_count": 70
        }
      ]
    },
    {
      "cell_type": "markdown",
      "source": [
        "# **12. Split the data into training and testing**"
      ],
      "metadata": {
        "id": "vy42X_pjjAYc"
      }
    },
    {
      "cell_type": "code",
      "source": [
        "from sklearn.model_selection import train_test_split\n",
        "x_train, x_test,y_train,y_test = train_test_split(x,y, test_size = 0.3,random_state=1)"
      ],
      "metadata": {
        "id": "zU1_685ti9Lc"
      },
      "execution_count": 71,
      "outputs": []
    },
    {
      "cell_type": "code",
      "source": [
        "x_train"
      ],
      "metadata": {
        "id": "PwAdAiPLjQ8f",
        "colab": {
          "base_uri": "https://localhost:8080/",
          "height": 424
        },
        "outputId": "d03133bc-3912-4dc0-8376-ab0fa1819650"
      },
      "execution_count": 72,
      "outputs": [
        {
          "output_type": "execute_result",
          "data": {
            "text/plain": [
              "     CustomerID  Gender  Age  Spending Score (1-100)\n",
              "116         117       0   63                      43\n",
              "67           68       0   68                      48\n",
              "78           79       0   23                      52\n",
              "42           43       1   48                      36\n",
              "17           18       1   20                      66\n",
              "..          ...     ...  ...                     ...\n",
              "133         134       0   31                      71\n",
              "137         138       1   32                      73\n",
              "72           73       0   60                      49\n",
              "140         141       0   57                       5\n",
              "37           38       0   30                      73\n",
              "\n",
              "[140 rows x 4 columns]"
            ],
            "text/html": [
              "\n",
              "  <div id=\"df-b944127b-4c5e-4704-8a9f-87f6de0fa98b\">\n",
              "    <div class=\"colab-df-container\">\n",
              "      <div>\n",
              "<style scoped>\n",
              "    .dataframe tbody tr th:only-of-type {\n",
              "        vertical-align: middle;\n",
              "    }\n",
              "\n",
              "    .dataframe tbody tr th {\n",
              "        vertical-align: top;\n",
              "    }\n",
              "\n",
              "    .dataframe thead th {\n",
              "        text-align: right;\n",
              "    }\n",
              "</style>\n",
              "<table border=\"1\" class=\"dataframe\">\n",
              "  <thead>\n",
              "    <tr style=\"text-align: right;\">\n",
              "      <th></th>\n",
              "      <th>CustomerID</th>\n",
              "      <th>Gender</th>\n",
              "      <th>Age</th>\n",
              "      <th>Spending Score (1-100)</th>\n",
              "    </tr>\n",
              "  </thead>\n",
              "  <tbody>\n",
              "    <tr>\n",
              "      <th>116</th>\n",
              "      <td>117</td>\n",
              "      <td>0</td>\n",
              "      <td>63</td>\n",
              "      <td>43</td>\n",
              "    </tr>\n",
              "    <tr>\n",
              "      <th>67</th>\n",
              "      <td>68</td>\n",
              "      <td>0</td>\n",
              "      <td>68</td>\n",
              "      <td>48</td>\n",
              "    </tr>\n",
              "    <tr>\n",
              "      <th>78</th>\n",
              "      <td>79</td>\n",
              "      <td>0</td>\n",
              "      <td>23</td>\n",
              "      <td>52</td>\n",
              "    </tr>\n",
              "    <tr>\n",
              "      <th>42</th>\n",
              "      <td>43</td>\n",
              "      <td>1</td>\n",
              "      <td>48</td>\n",
              "      <td>36</td>\n",
              "    </tr>\n",
              "    <tr>\n",
              "      <th>17</th>\n",
              "      <td>18</td>\n",
              "      <td>1</td>\n",
              "      <td>20</td>\n",
              "      <td>66</td>\n",
              "    </tr>\n",
              "    <tr>\n",
              "      <th>...</th>\n",
              "      <td>...</td>\n",
              "      <td>...</td>\n",
              "      <td>...</td>\n",
              "      <td>...</td>\n",
              "    </tr>\n",
              "    <tr>\n",
              "      <th>133</th>\n",
              "      <td>134</td>\n",
              "      <td>0</td>\n",
              "      <td>31</td>\n",
              "      <td>71</td>\n",
              "    </tr>\n",
              "    <tr>\n",
              "      <th>137</th>\n",
              "      <td>138</td>\n",
              "      <td>1</td>\n",
              "      <td>32</td>\n",
              "      <td>73</td>\n",
              "    </tr>\n",
              "    <tr>\n",
              "      <th>72</th>\n",
              "      <td>73</td>\n",
              "      <td>0</td>\n",
              "      <td>60</td>\n",
              "      <td>49</td>\n",
              "    </tr>\n",
              "    <tr>\n",
              "      <th>140</th>\n",
              "      <td>141</td>\n",
              "      <td>0</td>\n",
              "      <td>57</td>\n",
              "      <td>5</td>\n",
              "    </tr>\n",
              "    <tr>\n",
              "      <th>37</th>\n",
              "      <td>38</td>\n",
              "      <td>0</td>\n",
              "      <td>30</td>\n",
              "      <td>73</td>\n",
              "    </tr>\n",
              "  </tbody>\n",
              "</table>\n",
              "<p>140 rows × 4 columns</p>\n",
              "</div>\n",
              "      <button class=\"colab-df-convert\" onclick=\"convertToInteractive('df-b944127b-4c5e-4704-8a9f-87f6de0fa98b')\"\n",
              "              title=\"Convert this dataframe to an interactive table.\"\n",
              "              style=\"display:none;\">\n",
              "        \n",
              "  <svg xmlns=\"http://www.w3.org/2000/svg\" height=\"24px\"viewBox=\"0 0 24 24\"\n",
              "       width=\"24px\">\n",
              "    <path d=\"M0 0h24v24H0V0z\" fill=\"none\"/>\n",
              "    <path d=\"M18.56 5.44l.94 2.06.94-2.06 2.06-.94-2.06-.94-.94-2.06-.94 2.06-2.06.94zm-11 1L8.5 8.5l.94-2.06 2.06-.94-2.06-.94L8.5 2.5l-.94 2.06-2.06.94zm10 10l.94 2.06.94-2.06 2.06-.94-2.06-.94-.94-2.06-.94 2.06-2.06.94z\"/><path d=\"M17.41 7.96l-1.37-1.37c-.4-.4-.92-.59-1.43-.59-.52 0-1.04.2-1.43.59L10.3 9.45l-7.72 7.72c-.78.78-.78 2.05 0 2.83L4 21.41c.39.39.9.59 1.41.59.51 0 1.02-.2 1.41-.59l7.78-7.78 2.81-2.81c.8-.78.8-2.07 0-2.86zM5.41 20L4 18.59l7.72-7.72 1.47 1.35L5.41 20z\"/>\n",
              "  </svg>\n",
              "      </button>\n",
              "      \n",
              "  <style>\n",
              "    .colab-df-container {\n",
              "      display:flex;\n",
              "      flex-wrap:wrap;\n",
              "      gap: 12px;\n",
              "    }\n",
              "\n",
              "    .colab-df-convert {\n",
              "      background-color: #E8F0FE;\n",
              "      border: none;\n",
              "      border-radius: 50%;\n",
              "      cursor: pointer;\n",
              "      display: none;\n",
              "      fill: #1967D2;\n",
              "      height: 32px;\n",
              "      padding: 0 0 0 0;\n",
              "      width: 32px;\n",
              "    }\n",
              "\n",
              "    .colab-df-convert:hover {\n",
              "      background-color: #E2EBFA;\n",
              "      box-shadow: 0px 1px 2px rgba(60, 64, 67, 0.3), 0px 1px 3px 1px rgba(60, 64, 67, 0.15);\n",
              "      fill: #174EA6;\n",
              "    }\n",
              "\n",
              "    [theme=dark] .colab-df-convert {\n",
              "      background-color: #3B4455;\n",
              "      fill: #D2E3FC;\n",
              "    }\n",
              "\n",
              "    [theme=dark] .colab-df-convert:hover {\n",
              "      background-color: #434B5C;\n",
              "      box-shadow: 0px 1px 3px 1px rgba(0, 0, 0, 0.15);\n",
              "      filter: drop-shadow(0px 1px 2px rgba(0, 0, 0, 0.3));\n",
              "      fill: #FFFFFF;\n",
              "    }\n",
              "  </style>\n",
              "\n",
              "      <script>\n",
              "        const buttonEl =\n",
              "          document.querySelector('#df-b944127b-4c5e-4704-8a9f-87f6de0fa98b button.colab-df-convert');\n",
              "        buttonEl.style.display =\n",
              "          google.colab.kernel.accessAllowed ? 'block' : 'none';\n",
              "\n",
              "        async function convertToInteractive(key) {\n",
              "          const element = document.querySelector('#df-b944127b-4c5e-4704-8a9f-87f6de0fa98b');\n",
              "          const dataTable =\n",
              "            await google.colab.kernel.invokeFunction('convertToInteractive',\n",
              "                                                     [key], {});\n",
              "          if (!dataTable) return;\n",
              "\n",
              "          const docLinkHtml = 'Like what you see? Visit the ' +\n",
              "            '<a target=\"_blank\" href=https://colab.research.google.com/notebooks/data_table.ipynb>data table notebook</a>'\n",
              "            + ' to learn more about interactive tables.';\n",
              "          element.innerHTML = '';\n",
              "          dataTable['output_type'] = 'display_data';\n",
              "          await google.colab.output.renderOutput(dataTable, element);\n",
              "          const docLink = document.createElement('div');\n",
              "          docLink.innerHTML = docLinkHtml;\n",
              "          element.appendChild(docLink);\n",
              "        }\n",
              "      </script>\n",
              "    </div>\n",
              "  </div>\n",
              "  "
            ]
          },
          "metadata": {},
          "execution_count": 72
        }
      ]
    },
    {
      "cell_type": "code",
      "source": [
        "x_train.shape"
      ],
      "metadata": {
        "id": "lJjku9YIjYuz",
        "colab": {
          "base_uri": "https://localhost:8080/"
        },
        "outputId": "648ab4d0-2eb4-48e5-f42c-53eccd4274f1"
      },
      "execution_count": 73,
      "outputs": [
        {
          "output_type": "execute_result",
          "data": {
            "text/plain": [
              "(140, 4)"
            ]
          },
          "metadata": {},
          "execution_count": 73
        }
      ]
    },
    {
      "cell_type": "code",
      "source": [
        "x_test"
      ],
      "metadata": {
        "id": "kAF4PK96ja8q",
        "colab": {
          "base_uri": "https://localhost:8080/",
          "height": 1000
        },
        "outputId": "329dc2af-38db-4930-e1c0-94f673c21c9f"
      },
      "execution_count": 74,
      "outputs": [
        {
          "output_type": "execute_result",
          "data": {
            "text/plain": [
              "     CustomerID  Gender  Age  Spending Score (1-100)\n",
              "58           59       0   27                      51\n",
              "40           41       0   65                      35\n",
              "34           35       0   49                      14\n",
              "102         103       1   67                      59\n",
              "184         185       0   41                      39\n",
              "198         199       1   32                      18\n",
              "95           96       1   24                      52\n",
              "4             5       0   31                      40\n",
              "29           30       0   23                      87\n",
              "168         169       0   36                      27\n",
              "171         172       1   28                      75\n",
              "18           19       1   52                      29\n",
              "11           12       0   35                      99\n",
              "89           90       0   50                      46\n",
              "110         111       1   65                      52\n",
              "118         119       0   51                      43\n",
              "159         160       0   30                      73\n",
              "35           36       0   21                      81\n",
              "136         137       0   44                       7\n",
              "59           60       1   53                      46\n",
              "51           52       1   33                      60\n",
              "16           17       0   35                      35\n",
              "44           45       0   49                      28\n",
              "94           95       0   32                      42\n",
              "31           32       0   21                      73\n",
              "162         163       1   19                       5\n",
              "38           39       0   36                      26\n",
              "28           29       0   40                      31\n",
              "193         194       0   38                      91\n",
              "27           28       1   35                      61\n",
              "47           48       0   27                      47\n",
              "165         166       0   36                      75\n",
              "194         195       0   47                      16\n",
              "177         178       1   27                      69\n",
              "176         177       1   58                      15\n",
              "97           98       0   27                      50\n",
              "174         175       0   52                      13\n",
              "73           74       0   60                      56\n",
              "69           70       0   32                      47\n",
              "172         173       1   36                      10\n",
              "108         109       1   68                      43\n",
              "107         108       1   54                      46\n",
              "189         190       0   36                      85\n",
              "14           15       1   37                      13\n",
              "56           57       0   51                      50\n",
              "19           20       0   35                      98\n",
              "114         115       0   18                      48\n",
              "39           40       0   20                      75\n",
              "185         186       1   30                      97\n",
              "124         125       0   23                      29\n",
              "98           99       1   48                      42\n",
              "123         124       1   39                      91\n",
              "119         120       0   50                      57\n",
              "53           54       1   59                      60\n",
              "33           34       1   18                      92\n",
              "179         180       1   35                      90\n",
              "181         182       0   32                      86\n",
              "106         107       0   66                      50\n",
              "199         200       1   30                      83\n",
              "138         139       1   19                      10"
            ],
            "text/html": [
              "\n",
              "  <div id=\"df-761b9541-5c5b-4bde-bca1-f051aa316c0c\">\n",
              "    <div class=\"colab-df-container\">\n",
              "      <div>\n",
              "<style scoped>\n",
              "    .dataframe tbody tr th:only-of-type {\n",
              "        vertical-align: middle;\n",
              "    }\n",
              "\n",
              "    .dataframe tbody tr th {\n",
              "        vertical-align: top;\n",
              "    }\n",
              "\n",
              "    .dataframe thead th {\n",
              "        text-align: right;\n",
              "    }\n",
              "</style>\n",
              "<table border=\"1\" class=\"dataframe\">\n",
              "  <thead>\n",
              "    <tr style=\"text-align: right;\">\n",
              "      <th></th>\n",
              "      <th>CustomerID</th>\n",
              "      <th>Gender</th>\n",
              "      <th>Age</th>\n",
              "      <th>Spending Score (1-100)</th>\n",
              "    </tr>\n",
              "  </thead>\n",
              "  <tbody>\n",
              "    <tr>\n",
              "      <th>58</th>\n",
              "      <td>59</td>\n",
              "      <td>0</td>\n",
              "      <td>27</td>\n",
              "      <td>51</td>\n",
              "    </tr>\n",
              "    <tr>\n",
              "      <th>40</th>\n",
              "      <td>41</td>\n",
              "      <td>0</td>\n",
              "      <td>65</td>\n",
              "      <td>35</td>\n",
              "    </tr>\n",
              "    <tr>\n",
              "      <th>34</th>\n",
              "      <td>35</td>\n",
              "      <td>0</td>\n",
              "      <td>49</td>\n",
              "      <td>14</td>\n",
              "    </tr>\n",
              "    <tr>\n",
              "      <th>102</th>\n",
              "      <td>103</td>\n",
              "      <td>1</td>\n",
              "      <td>67</td>\n",
              "      <td>59</td>\n",
              "    </tr>\n",
              "    <tr>\n",
              "      <th>184</th>\n",
              "      <td>185</td>\n",
              "      <td>0</td>\n",
              "      <td>41</td>\n",
              "      <td>39</td>\n",
              "    </tr>\n",
              "    <tr>\n",
              "      <th>198</th>\n",
              "      <td>199</td>\n",
              "      <td>1</td>\n",
              "      <td>32</td>\n",
              "      <td>18</td>\n",
              "    </tr>\n",
              "    <tr>\n",
              "      <th>95</th>\n",
              "      <td>96</td>\n",
              "      <td>1</td>\n",
              "      <td>24</td>\n",
              "      <td>52</td>\n",
              "    </tr>\n",
              "    <tr>\n",
              "      <th>4</th>\n",
              "      <td>5</td>\n",
              "      <td>0</td>\n",
              "      <td>31</td>\n",
              "      <td>40</td>\n",
              "    </tr>\n",
              "    <tr>\n",
              "      <th>29</th>\n",
              "      <td>30</td>\n",
              "      <td>0</td>\n",
              "      <td>23</td>\n",
              "      <td>87</td>\n",
              "    </tr>\n",
              "    <tr>\n",
              "      <th>168</th>\n",
              "      <td>169</td>\n",
              "      <td>0</td>\n",
              "      <td>36</td>\n",
              "      <td>27</td>\n",
              "    </tr>\n",
              "    <tr>\n",
              "      <th>171</th>\n",
              "      <td>172</td>\n",
              "      <td>1</td>\n",
              "      <td>28</td>\n",
              "      <td>75</td>\n",
              "    </tr>\n",
              "    <tr>\n",
              "      <th>18</th>\n",
              "      <td>19</td>\n",
              "      <td>1</td>\n",
              "      <td>52</td>\n",
              "      <td>29</td>\n",
              "    </tr>\n",
              "    <tr>\n",
              "      <th>11</th>\n",
              "      <td>12</td>\n",
              "      <td>0</td>\n",
              "      <td>35</td>\n",
              "      <td>99</td>\n",
              "    </tr>\n",
              "    <tr>\n",
              "      <th>89</th>\n",
              "      <td>90</td>\n",
              "      <td>0</td>\n",
              "      <td>50</td>\n",
              "      <td>46</td>\n",
              "    </tr>\n",
              "    <tr>\n",
              "      <th>110</th>\n",
              "      <td>111</td>\n",
              "      <td>1</td>\n",
              "      <td>65</td>\n",
              "      <td>52</td>\n",
              "    </tr>\n",
              "    <tr>\n",
              "      <th>118</th>\n",
              "      <td>119</td>\n",
              "      <td>0</td>\n",
              "      <td>51</td>\n",
              "      <td>43</td>\n",
              "    </tr>\n",
              "    <tr>\n",
              "      <th>159</th>\n",
              "      <td>160</td>\n",
              "      <td>0</td>\n",
              "      <td>30</td>\n",
              "      <td>73</td>\n",
              "    </tr>\n",
              "    <tr>\n",
              "      <th>35</th>\n",
              "      <td>36</td>\n",
              "      <td>0</td>\n",
              "      <td>21</td>\n",
              "      <td>81</td>\n",
              "    </tr>\n",
              "    <tr>\n",
              "      <th>136</th>\n",
              "      <td>137</td>\n",
              "      <td>0</td>\n",
              "      <td>44</td>\n",
              "      <td>7</td>\n",
              "    </tr>\n",
              "    <tr>\n",
              "      <th>59</th>\n",
              "      <td>60</td>\n",
              "      <td>1</td>\n",
              "      <td>53</td>\n",
              "      <td>46</td>\n",
              "    </tr>\n",
              "    <tr>\n",
              "      <th>51</th>\n",
              "      <td>52</td>\n",
              "      <td>1</td>\n",
              "      <td>33</td>\n",
              "      <td>60</td>\n",
              "    </tr>\n",
              "    <tr>\n",
              "      <th>16</th>\n",
              "      <td>17</td>\n",
              "      <td>0</td>\n",
              "      <td>35</td>\n",
              "      <td>35</td>\n",
              "    </tr>\n",
              "    <tr>\n",
              "      <th>44</th>\n",
              "      <td>45</td>\n",
              "      <td>0</td>\n",
              "      <td>49</td>\n",
              "      <td>28</td>\n",
              "    </tr>\n",
              "    <tr>\n",
              "      <th>94</th>\n",
              "      <td>95</td>\n",
              "      <td>0</td>\n",
              "      <td>32</td>\n",
              "      <td>42</td>\n",
              "    </tr>\n",
              "    <tr>\n",
              "      <th>31</th>\n",
              "      <td>32</td>\n",
              "      <td>0</td>\n",
              "      <td>21</td>\n",
              "      <td>73</td>\n",
              "    </tr>\n",
              "    <tr>\n",
              "      <th>162</th>\n",
              "      <td>163</td>\n",
              "      <td>1</td>\n",
              "      <td>19</td>\n",
              "      <td>5</td>\n",
              "    </tr>\n",
              "    <tr>\n",
              "      <th>38</th>\n",
              "      <td>39</td>\n",
              "      <td>0</td>\n",
              "      <td>36</td>\n",
              "      <td>26</td>\n",
              "    </tr>\n",
              "    <tr>\n",
              "      <th>28</th>\n",
              "      <td>29</td>\n",
              "      <td>0</td>\n",
              "      <td>40</td>\n",
              "      <td>31</td>\n",
              "    </tr>\n",
              "    <tr>\n",
              "      <th>193</th>\n",
              "      <td>194</td>\n",
              "      <td>0</td>\n",
              "      <td>38</td>\n",
              "      <td>91</td>\n",
              "    </tr>\n",
              "    <tr>\n",
              "      <th>27</th>\n",
              "      <td>28</td>\n",
              "      <td>1</td>\n",
              "      <td>35</td>\n",
              "      <td>61</td>\n",
              "    </tr>\n",
              "    <tr>\n",
              "      <th>47</th>\n",
              "      <td>48</td>\n",
              "      <td>0</td>\n",
              "      <td>27</td>\n",
              "      <td>47</td>\n",
              "    </tr>\n",
              "    <tr>\n",
              "      <th>165</th>\n",
              "      <td>166</td>\n",
              "      <td>0</td>\n",
              "      <td>36</td>\n",
              "      <td>75</td>\n",
              "    </tr>\n",
              "    <tr>\n",
              "      <th>194</th>\n",
              "      <td>195</td>\n",
              "      <td>0</td>\n",
              "      <td>47</td>\n",
              "      <td>16</td>\n",
              "    </tr>\n",
              "    <tr>\n",
              "      <th>177</th>\n",
              "      <td>178</td>\n",
              "      <td>1</td>\n",
              "      <td>27</td>\n",
              "      <td>69</td>\n",
              "    </tr>\n",
              "    <tr>\n",
              "      <th>176</th>\n",
              "      <td>177</td>\n",
              "      <td>1</td>\n",
              "      <td>58</td>\n",
              "      <td>15</td>\n",
              "    </tr>\n",
              "    <tr>\n",
              "      <th>97</th>\n",
              "      <td>98</td>\n",
              "      <td>0</td>\n",
              "      <td>27</td>\n",
              "      <td>50</td>\n",
              "    </tr>\n",
              "    <tr>\n",
              "      <th>174</th>\n",
              "      <td>175</td>\n",
              "      <td>0</td>\n",
              "      <td>52</td>\n",
              "      <td>13</td>\n",
              "    </tr>\n",
              "    <tr>\n",
              "      <th>73</th>\n",
              "      <td>74</td>\n",
              "      <td>0</td>\n",
              "      <td>60</td>\n",
              "      <td>56</td>\n",
              "    </tr>\n",
              "    <tr>\n",
              "      <th>69</th>\n",
              "      <td>70</td>\n",
              "      <td>0</td>\n",
              "      <td>32</td>\n",
              "      <td>47</td>\n",
              "    </tr>\n",
              "    <tr>\n",
              "      <th>172</th>\n",
              "      <td>173</td>\n",
              "      <td>1</td>\n",
              "      <td>36</td>\n",
              "      <td>10</td>\n",
              "    </tr>\n",
              "    <tr>\n",
              "      <th>108</th>\n",
              "      <td>109</td>\n",
              "      <td>1</td>\n",
              "      <td>68</td>\n",
              "      <td>43</td>\n",
              "    </tr>\n",
              "    <tr>\n",
              "      <th>107</th>\n",
              "      <td>108</td>\n",
              "      <td>1</td>\n",
              "      <td>54</td>\n",
              "      <td>46</td>\n",
              "    </tr>\n",
              "    <tr>\n",
              "      <th>189</th>\n",
              "      <td>190</td>\n",
              "      <td>0</td>\n",
              "      <td>36</td>\n",
              "      <td>85</td>\n",
              "    </tr>\n",
              "    <tr>\n",
              "      <th>14</th>\n",
              "      <td>15</td>\n",
              "      <td>1</td>\n",
              "      <td>37</td>\n",
              "      <td>13</td>\n",
              "    </tr>\n",
              "    <tr>\n",
              "      <th>56</th>\n",
              "      <td>57</td>\n",
              "      <td>0</td>\n",
              "      <td>51</td>\n",
              "      <td>50</td>\n",
              "    </tr>\n",
              "    <tr>\n",
              "      <th>19</th>\n",
              "      <td>20</td>\n",
              "      <td>0</td>\n",
              "      <td>35</td>\n",
              "      <td>98</td>\n",
              "    </tr>\n",
              "    <tr>\n",
              "      <th>114</th>\n",
              "      <td>115</td>\n",
              "      <td>0</td>\n",
              "      <td>18</td>\n",
              "      <td>48</td>\n",
              "    </tr>\n",
              "    <tr>\n",
              "      <th>39</th>\n",
              "      <td>40</td>\n",
              "      <td>0</td>\n",
              "      <td>20</td>\n",
              "      <td>75</td>\n",
              "    </tr>\n",
              "    <tr>\n",
              "      <th>185</th>\n",
              "      <td>186</td>\n",
              "      <td>1</td>\n",
              "      <td>30</td>\n",
              "      <td>97</td>\n",
              "    </tr>\n",
              "    <tr>\n",
              "      <th>124</th>\n",
              "      <td>125</td>\n",
              "      <td>0</td>\n",
              "      <td>23</td>\n",
              "      <td>29</td>\n",
              "    </tr>\n",
              "    <tr>\n",
              "      <th>98</th>\n",
              "      <td>99</td>\n",
              "      <td>1</td>\n",
              "      <td>48</td>\n",
              "      <td>42</td>\n",
              "    </tr>\n",
              "    <tr>\n",
              "      <th>123</th>\n",
              "      <td>124</td>\n",
              "      <td>1</td>\n",
              "      <td>39</td>\n",
              "      <td>91</td>\n",
              "    </tr>\n",
              "    <tr>\n",
              "      <th>119</th>\n",
              "      <td>120</td>\n",
              "      <td>0</td>\n",
              "      <td>50</td>\n",
              "      <td>57</td>\n",
              "    </tr>\n",
              "    <tr>\n",
              "      <th>53</th>\n",
              "      <td>54</td>\n",
              "      <td>1</td>\n",
              "      <td>59</td>\n",
              "      <td>60</td>\n",
              "    </tr>\n",
              "    <tr>\n",
              "      <th>33</th>\n",
              "      <td>34</td>\n",
              "      <td>1</td>\n",
              "      <td>18</td>\n",
              "      <td>92</td>\n",
              "    </tr>\n",
              "    <tr>\n",
              "      <th>179</th>\n",
              "      <td>180</td>\n",
              "      <td>1</td>\n",
              "      <td>35</td>\n",
              "      <td>90</td>\n",
              "    </tr>\n",
              "    <tr>\n",
              "      <th>181</th>\n",
              "      <td>182</td>\n",
              "      <td>0</td>\n",
              "      <td>32</td>\n",
              "      <td>86</td>\n",
              "    </tr>\n",
              "    <tr>\n",
              "      <th>106</th>\n",
              "      <td>107</td>\n",
              "      <td>0</td>\n",
              "      <td>66</td>\n",
              "      <td>50</td>\n",
              "    </tr>\n",
              "    <tr>\n",
              "      <th>199</th>\n",
              "      <td>200</td>\n",
              "      <td>1</td>\n",
              "      <td>30</td>\n",
              "      <td>83</td>\n",
              "    </tr>\n",
              "    <tr>\n",
              "      <th>138</th>\n",
              "      <td>139</td>\n",
              "      <td>1</td>\n",
              "      <td>19</td>\n",
              "      <td>10</td>\n",
              "    </tr>\n",
              "  </tbody>\n",
              "</table>\n",
              "</div>\n",
              "      <button class=\"colab-df-convert\" onclick=\"convertToInteractive('df-761b9541-5c5b-4bde-bca1-f051aa316c0c')\"\n",
              "              title=\"Convert this dataframe to an interactive table.\"\n",
              "              style=\"display:none;\">\n",
              "        \n",
              "  <svg xmlns=\"http://www.w3.org/2000/svg\" height=\"24px\"viewBox=\"0 0 24 24\"\n",
              "       width=\"24px\">\n",
              "    <path d=\"M0 0h24v24H0V0z\" fill=\"none\"/>\n",
              "    <path d=\"M18.56 5.44l.94 2.06.94-2.06 2.06-.94-2.06-.94-.94-2.06-.94 2.06-2.06.94zm-11 1L8.5 8.5l.94-2.06 2.06-.94-2.06-.94L8.5 2.5l-.94 2.06-2.06.94zm10 10l.94 2.06.94-2.06 2.06-.94-2.06-.94-.94-2.06-.94 2.06-2.06.94z\"/><path d=\"M17.41 7.96l-1.37-1.37c-.4-.4-.92-.59-1.43-.59-.52 0-1.04.2-1.43.59L10.3 9.45l-7.72 7.72c-.78.78-.78 2.05 0 2.83L4 21.41c.39.39.9.59 1.41.59.51 0 1.02-.2 1.41-.59l7.78-7.78 2.81-2.81c.8-.78.8-2.07 0-2.86zM5.41 20L4 18.59l7.72-7.72 1.47 1.35L5.41 20z\"/>\n",
              "  </svg>\n",
              "      </button>\n",
              "      \n",
              "  <style>\n",
              "    .colab-df-container {\n",
              "      display:flex;\n",
              "      flex-wrap:wrap;\n",
              "      gap: 12px;\n",
              "    }\n",
              "\n",
              "    .colab-df-convert {\n",
              "      background-color: #E8F0FE;\n",
              "      border: none;\n",
              "      border-radius: 50%;\n",
              "      cursor: pointer;\n",
              "      display: none;\n",
              "      fill: #1967D2;\n",
              "      height: 32px;\n",
              "      padding: 0 0 0 0;\n",
              "      width: 32px;\n",
              "    }\n",
              "\n",
              "    .colab-df-convert:hover {\n",
              "      background-color: #E2EBFA;\n",
              "      box-shadow: 0px 1px 2px rgba(60, 64, 67, 0.3), 0px 1px 3px 1px rgba(60, 64, 67, 0.15);\n",
              "      fill: #174EA6;\n",
              "    }\n",
              "\n",
              "    [theme=dark] .colab-df-convert {\n",
              "      background-color: #3B4455;\n",
              "      fill: #D2E3FC;\n",
              "    }\n",
              "\n",
              "    [theme=dark] .colab-df-convert:hover {\n",
              "      background-color: #434B5C;\n",
              "      box-shadow: 0px 1px 3px 1px rgba(0, 0, 0, 0.15);\n",
              "      filter: drop-shadow(0px 1px 2px rgba(0, 0, 0, 0.3));\n",
              "      fill: #FFFFFF;\n",
              "    }\n",
              "  </style>\n",
              "\n",
              "      <script>\n",
              "        const buttonEl =\n",
              "          document.querySelector('#df-761b9541-5c5b-4bde-bca1-f051aa316c0c button.colab-df-convert');\n",
              "        buttonEl.style.display =\n",
              "          google.colab.kernel.accessAllowed ? 'block' : 'none';\n",
              "\n",
              "        async function convertToInteractive(key) {\n",
              "          const element = document.querySelector('#df-761b9541-5c5b-4bde-bca1-f051aa316c0c');\n",
              "          const dataTable =\n",
              "            await google.colab.kernel.invokeFunction('convertToInteractive',\n",
              "                                                     [key], {});\n",
              "          if (!dataTable) return;\n",
              "\n",
              "          const docLinkHtml = 'Like what you see? Visit the ' +\n",
              "            '<a target=\"_blank\" href=https://colab.research.google.com/notebooks/data_table.ipynb>data table notebook</a>'\n",
              "            + ' to learn more about interactive tables.';\n",
              "          element.innerHTML = '';\n",
              "          dataTable['output_type'] = 'display_data';\n",
              "          await google.colab.output.renderOutput(dataTable, element);\n",
              "          const docLink = document.createElement('div');\n",
              "          docLink.innerHTML = docLinkHtml;\n",
              "          element.appendChild(docLink);\n",
              "        }\n",
              "      </script>\n",
              "    </div>\n",
              "  </div>\n",
              "  "
            ]
          },
          "metadata": {},
          "execution_count": 74
        }
      ]
    },
    {
      "cell_type": "code",
      "source": [
        "x_test.shape"
      ],
      "metadata": {
        "id": "Jg-gWdcHjdjm",
        "colab": {
          "base_uri": "https://localhost:8080/"
        },
        "outputId": "02f77c23-1ae8-452a-f75f-b1ec742e6238"
      },
      "execution_count": 75,
      "outputs": [
        {
          "output_type": "execute_result",
          "data": {
            "text/plain": [
              "(60, 4)"
            ]
          },
          "metadata": {},
          "execution_count": 75
        }
      ]
    },
    {
      "cell_type": "code",
      "source": [
        "y_train"
      ],
      "metadata": {
        "id": "qWXIi2AAjfuk",
        "colab": {
          "base_uri": "https://localhost:8080/"
        },
        "outputId": "3a713eb7-dd59-4fc8-cb37-dcf86faeba80"
      },
      "execution_count": 76,
      "outputs": [
        {
          "output_type": "execute_result",
          "data": {
            "text/plain": [
              "116    65\n",
              "67     48\n",
              "78     54\n",
              "42     39\n",
              "17     21\n",
              "       ..\n",
              "133    72\n",
              "137    73\n",
              "72     50\n",
              "140    75\n",
              "37     34\n",
              "Name: Annual Income (k$), Length: 140, dtype: int64"
            ]
          },
          "metadata": {},
          "execution_count": 76
        }
      ]
    },
    {
      "cell_type": "markdown",
      "source": [
        "# **13.Build the model**"
      ],
      "metadata": {
        "id": "tqzWpQsnjjLl"
      }
    },
    {
      "cell_type": "code",
      "source": [
        "from sklearn.linear_model import LinearRegression\n",
        "LR = LinearRegression()"
      ],
      "metadata": {
        "id": "pqRJT8t7jqM8"
      },
      "execution_count": 77,
      "outputs": []
    },
    {
      "cell_type": "markdown",
      "source": [
        "# **14.Train the Model**"
      ],
      "metadata": {
        "id": "9f-m6CI1jwUH"
      }
    },
    {
      "cell_type": "code",
      "source": [
        "LR.fit(x_train,y_train)"
      ],
      "metadata": {
        "id": "-RAbIjcCj4AU",
        "colab": {
          "base_uri": "https://localhost:8080/"
        },
        "outputId": "b7c8460c-1b62-4a5d-c4e6-98c2566bf5f9"
      },
      "execution_count": 78,
      "outputs": [
        {
          "output_type": "execute_result",
          "data": {
            "text/plain": [
              "LinearRegression()"
            ]
          },
          "metadata": {},
          "execution_count": 78
        }
      ]
    },
    {
      "cell_type": "markdown",
      "source": [
        "# **15.Test the model**"
      ],
      "metadata": {
        "id": "bl2L3F5Wj6lL"
      }
    },
    {
      "cell_type": "code",
      "source": [
        "pred=LR.predict(x_test)"
      ],
      "metadata": {
        "id": "eVWuFY_Kj_2B"
      },
      "execution_count": 79,
      "outputs": []
    },
    {
      "cell_type": "code",
      "source": [
        "pred"
      ],
      "metadata": {
        "id": "1TKhY3p-kE0x",
        "colab": {
          "base_uri": "https://localhost:8080/"
        },
        "outputId": "08081c3b-af82-412b-958e-0a474df80fd9"
      },
      "execution_count": 80,
      "outputs": [
        {
          "output_type": "execute_result",
          "data": {
            "text/plain": [
              "array([ 41.79651469,  35.44897396,  32.32182941,  62.15230947,\n",
              "        97.15499   , 102.74527464,  57.52904542,  18.50596884,\n",
              "        28.90050195,  90.05616474,  90.63951146,  25.17877999,\n",
              "        21.47607213,  56.15450717,  65.58284431,  68.81365504,\n",
              "        85.74449988,  31.45756756,  76.51559556,  42.98039276,\n",
              "        38.70178627,  23.89238204,  36.61730406,  57.67164216,\n",
              "        29.74845621,  86.65460588,  33.53032334,  29.31235764,\n",
              "       100.75984295,  28.3364555 ,  37.02836966,  88.57006476,\n",
              "       101.81449573,  93.23392219,  94.16104415,  58.75918464,\n",
              "        93.31570423,  49.53263905,  46.78164703,  91.618992  ,\n",
              "        64.85923756,  63.89021447,  98.96847593,  22.93975353,\n",
              "        41.82689378,  24.95860094,  65.82297944,  33.18229176,\n",
              "        96.7187877 ,  70.4300092 ,  59.76768524,  70.1173078 ,\n",
              "        69.1581952 ,  40.54244593,  30.19338393,  94.32293272,\n",
              "        95.33656664,  64.12923371, 102.85955135,  76.19945402])"
            ]
          },
          "metadata": {},
          "execution_count": 80
        }
      ]
    },
    {
      "cell_type": "code",
      "source": [
        "pred.astype(int)"
      ],
      "metadata": {
        "id": "JLGw8cr-kF7v",
        "colab": {
          "base_uri": "https://localhost:8080/"
        },
        "outputId": "3910f25c-719b-4c45-8a94-c4d0cc340f7d"
      },
      "execution_count": 81,
      "outputs": [
        {
          "output_type": "execute_result",
          "data": {
            "text/plain": [
              "array([ 41,  35,  32,  62,  97, 102,  57,  18,  28,  90,  90,  25,  21,\n",
              "        56,  65,  68,  85,  31,  76,  42,  38,  23,  36,  57,  29,  86,\n",
              "        33,  29, 100,  28,  37,  88, 101,  93,  94,  58,  93,  49,  46,\n",
              "        91,  64,  63,  98,  22,  41,  24,  65,  33,  96,  70,  59,  70,\n",
              "        69,  40,  30,  94,  95,  64, 102,  76])"
            ]
          },
          "metadata": {},
          "execution_count": 81
        }
      ]
    },
    {
      "cell_type": "code",
      "source": [
        "y_test"
      ],
      "metadata": {
        "id": "2o8R75-VkIHS",
        "colab": {
          "base_uri": "https://localhost:8080/"
        },
        "outputId": "d0e34e5a-fc00-4df7-8bd3-194d640c9630"
      },
      "execution_count": 82,
      "outputs": [
        {
          "output_type": "execute_result",
          "data": {
            "text/plain": [
              "58      46\n",
              "40      38\n",
              "34      33\n",
              "102     62\n",
              "184     99\n",
              "198    137\n",
              "95      60\n",
              "4       17\n",
              "29      29\n",
              "168     87\n",
              "171     87\n",
              "18      23\n",
              "11      19\n",
              "89      58\n",
              "110     63\n",
              "118     67\n",
              "159     78\n",
              "35      33\n",
              "136     73\n",
              "59      46\n",
              "51      42\n",
              "16      21\n",
              "44      39\n",
              "94      60\n",
              "31      30\n",
              "162     81\n",
              "38      37\n",
              "28      29\n",
              "193    113\n",
              "27      28\n",
              "47      40\n",
              "165     85\n",
              "194    120\n",
              "177     88\n",
              "176     88\n",
              "97      60\n",
              "174     88\n",
              "73      50\n",
              "69      48\n",
              "172     87\n",
              "108     63\n",
              "107     63\n",
              "189    103\n",
              "14      20\n",
              "56      44\n",
              "19      23\n",
              "114     65\n",
              "39      37\n",
              "185     99\n",
              "124     70\n",
              "98      61\n",
              "123     69\n",
              "119     67\n",
              "53      43\n",
              "33      33\n",
              "179     93\n",
              "181     97\n",
              "106     63\n",
              "199    137\n",
              "138     74\n",
              "Name: Annual Income (k$), dtype: int64"
            ]
          },
          "metadata": {},
          "execution_count": 82
        }
      ]
    },
    {
      "cell_type": "markdown",
      "source": [
        "# **16.Measure the performance using Evaluation Metrics.**"
      ],
      "metadata": {
        "id": "_5Gcj_ZNkMRp"
      }
    },
    {
      "cell_type": "code",
      "source": [
        "from sklearn.metrics import r2_score\n",
        "score=r2_score(pred,y_test)"
      ],
      "metadata": {
        "id": "GziXQeiVkTes"
      },
      "execution_count": 83,
      "outputs": []
    },
    {
      "cell_type": "code",
      "source": [
        "score"
      ],
      "metadata": {
        "id": "oZxDqxEjkepa",
        "colab": {
          "base_uri": "https://localhost:8080/"
        },
        "outputId": "95afbc59-14c1-49c9-e0e3-c21f3f390a42"
      },
      "execution_count": 84,
      "outputs": [
        {
          "output_type": "execute_result",
          "data": {
            "text/plain": [
              "0.9234274149757858"
            ]
          },
          "metadata": {},
          "execution_count": 84
        }
      ]
    }
  ]
}
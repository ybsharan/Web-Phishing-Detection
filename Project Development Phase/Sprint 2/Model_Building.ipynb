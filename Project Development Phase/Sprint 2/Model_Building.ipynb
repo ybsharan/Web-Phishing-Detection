{
  "nbformat": 4,
  "nbformat_minor": 0,
  "metadata": {
    "colab": {
      "provenance": []
    },
    "kernelspec": {
      "name": "python3",
      "display_name": "Python 3"
    },
    "language_info": {
      "name": "python"
    }
  },
  "cells": [
    {
      "cell_type": "markdown",
      "source": [
        "Choose The Appropriate Model"
      ],
      "metadata": {
        "id": "p9eWAqQgt2uH"
      }
    },
    {
      "cell_type": "markdown",
      "source": [
        "Step 1 : Working with Logistic Regression model"
      ],
      "metadata": {
        "id": "GiACrhPKt_PT"
      }
    },
    {
      "cell_type": "code",
      "source": [
        "from sklearn.linear_model import LogisticRegression\n",
        "lr=LogisticRegression()\n",
        "lr.fit(x_train,y_train)"
      ],
      "metadata": {
        "colab": {
          "base_uri": "https://localhost:8080/"
        },
        "id": "XcZh_WkNzRh-",
        "outputId": "34876535-62f1-46e6-ba2b-cf5ada4f6a32"
      },
      "execution_count": null,
      "outputs": [
        {
          "output_type": "execute_result",
          "data": {
            "text/plain": [
              "LogisticRegression()"
            ]
          },
          "metadata": {},
          "execution_count": 10
        }
      ]
    },
    {
      "cell_type": "markdown",
      "source": [
        "Step  2 : Check the metrics of the model"
      ],
      "metadata": {
        "id": "Ga4otFhkuFRc"
      }
    },
    {
      "cell_type": "code",
      "source": [
        "y_pred1=lr.predict(x_test)\n",
        "from sklearn.metrics import accuracy_score\n",
        "log_reg=accuracy_score(y_test,y_pred1)\n",
        "log_reg\n"
      ],
      "metadata": {
        "colab": {
          "base_uri": "https://localhost:8080/"
        },
        "id": "k5ECIEdszoYe",
        "outputId": "f557c9c4-b3bd-4783-9a3c-59f4c25b63aa"
      },
      "execution_count": null,
      "outputs": [
        {
          "output_type": "execute_result",
          "data": {
            "text/plain": [
              "0.9167797376752601"
            ]
          },
          "metadata": {},
          "execution_count": 11
        }
      ]
    },
    {
      "cell_type": "markdown",
      "source": [
        "Step 3 : Saving the model"
      ],
      "metadata": {
        "id": "IQaWD9fluLMF"
      }
    },
    {
      "cell_type": "code",
      "source": [
        "import pickle\n",
        "pickle.dump(lr,open('Phishing_Website.pkl','wb'))"
      ],
      "metadata": {
        "id": "MONEdlZy0FRf"
      },
      "execution_count": null,
      "outputs": []
    }
  ]
}